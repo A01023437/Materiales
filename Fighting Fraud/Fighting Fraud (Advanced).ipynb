{
 "cells": [
  {
   "cell_type": "markdown",
   "metadata": {},
   "source": [
    "<h1>$\\color{blue}{\\textbf{Case Study: Fighting Fraud}}$</h1>\n",
    "\n",
    "***"
   ]
  },
  {
   "cell_type": "markdown",
   "metadata": {},
   "source": [
    "<img src=\"Images/banner2.png\" alt=\"Tec banner\" style=\"display: auto;margin-left:auto;margin-right: auto;width:120%;\"/>\n",
    "\n",
    "***"
   ]
  },
  {
   "cell_type": "markdown",
   "metadata": {},
   "source": [
    "<h1>$\\color{blue}{\\textbf{Advanced Version}}$</h1>\n",
    "\n",
    "### <p align=\"justify\" style=\"line-height:25px\">This is an advanced version. It includes no code whatsoever; however, it includes a lot of comments to help you along the study case. Follow the links to functions, modules and libraries documentations. If you get stuck on a particular part, feel free to also use the beginner version in $\\color{blue}{\\textbf{Fighting Fraud (Beginners).ipynb}}$ to help you out.<br><br>$\\color{red}{\\textbf{Attention!!!}}$<br>Whenever you see this image <img src=\"Images/broke.jpg\" width=\"300\" align=\"Center\"/><br> it means that $\\color{red}{\\textbf{code is missing or an answer is required}}$ and you must fill these gaps.<br><br>$\\color{red}{\\textbf{Note: If you close the notebook, you will have to run all cells again upon-reopening it}}$.<br>   \n",
    "\n",
    "<img src=\"Images/luck.jpg\" width=\"100\" align=\"Left\"/><h2><br>$\\,\\,\\,\\color{green}{\\textbf{Good luck solving this case!!! Have fun!!!}}$</h2>"
   ]
  },
  {
   "cell_type": "markdown",
   "metadata": {},
   "source": [
    "# $\\color{blue}{\\textbf{Identification}}$\n",
    "<table style=\"width:100%\" align=\"right\">\n",
    "  <tr>\n",
    "    <th><h2>$\\color{black}{\\textbf{Name}}$</h2></th>\n",
    "    <th><h2>$\\color{black}{\\textbf{Student ID}}$</h2></th>\n",
    "  </tr>\n",
    "    \n",
    "  <tr>\n",
    "    <td><h3>$\\color{black}{\\text{Alfredo Gimenez Zapiola}}$</h3></td>\n",
    "    <td><h3>$\\color{black}{\\text{A01023437}}$</h3></td>\n",
    "  </tr>\n",
    "  <tr>\n",
    "    <td><h3>$\\color{black}{\\text{Lizbeth Talavera}}$</h3></td>\n",
    "    <td><h3>$\\color{black}{\\text{a01023588}}$</h3></td>\n",
    "  </tr>\n",
    "    <tr>\n",
    "    <td><h3>$\\color{black}{\\text{Isabel Maqueda Rolon}}$</h3></td>\n",
    "    <td><h3>$\\color{black}{\\text{A01652906}}$</h3></td>\n",
    "  </tr>\n",
    "    <tr>\n",
    "    <td><h3>$\\color{black}{\\text{Eduardo Badillo}}$</h3></td>\n",
    "    <td><h3>$\\color{black}{\\text{A01020716}}$</h3></td>\n",
    "  </tr>\n",
    "  </tr>\n",
    "    <tr>\n",
    "    <td><h3>$\\color{black}{\\text{Uri Goldberg Kleiman}}$</h3></td>\n",
    "    <td><h3>$\\color{black}{\\text{A01193072}}$</h3></td>\n",
    "  </tr>\n",
    "</table>"
   ]
  },
  {
   "cell_type": "markdown",
   "metadata": {},
   "source": [
    "<h1>$\\color{blue}{\\textbf{Introduction}}$</h1>\n",
    "\n",
    "### <p align=\"justify\" style=\"line-height:25px\">The total losses on UK cards (debit and credit) increased to £185 million in the first half of 2012, a 9% rise compared with the last six months of 2011 (source: UK Cards Association).<br><br>Although this is below the peak of £304 million in losses in the first half of 2008, criminals are increasingly resorting to traditional ways of stealing people's details to combat anti-fraud advances such as chip and PIN.</p>\n",
    "\n",
    "\n",
    "<center style=\"font-weight: bold; font-size: 150%;\">!! And the situation has only worsened in recent years !!</center>\n",
    "\n",
    "<img src=\"Images/creditfraud.jpg\" alt=\"Fraud\" style=\"display: auto;margin-left:auto;margin-right: auto;width:40%;\"/>\n",
    "\n",
    "### <p align=\"justify\" style=\"line-height:25px\"> Unauthorised financial fraud losses across payment cards, remote banking and cheques totalled £844.8 million in 2018, an increase of 16% compared to 2017. In addition, in 2018 finance industry members reported 84,624 incidents of authorised push payment scams with gross losses of £354.3 million.<br><br>In this project we will load and explore a dataset that contains transactions made by credit cards in September 2013 by European cardholders. This dataset present transactions that occurred over the course of two days, where (according to [Université Libre de Bruxelles](https://mlg.ulb.ac.be/wordpress/)) 492 frauds were detected out of the 284,807 transactions.<br><br>Part of the challenge will be dealing with such a large dataset (one which, for example, usually causes Microsoft Excel to crash). Ultimately our aim is to compare and contrast various machine learning algorithms - in order that we may find those 492 fraudulent transactions ourselves.<br><br>In particular, the project will allow us to investigate methods of dealing with a highly unbalanced dataset, where the positive class (fraudulent transactions) account for just 0.172% of all transactions - thereby (possibly!) rendering many common and well known machine learning algorithms ineffective.</p>"
   ]
  },
  {
   "cell_type": "markdown",
   "metadata": {},
   "source": [
    "<h1>$\\color{blue}{\\textbf{Python Imports and Setup}}$</h1>\n",
    "\n",
    "### <p align=\"justify\" style=\"line-height:25px\">Run the following cell to import all the libraries you need to complete the case study into the Jupyter Notebook.<br><br>The first command simply ensures that any plot we produce in this notebook is immediately displayed on screen, directly below the code that created it.</p>"
   ]
  },
  {
   "cell_type": "code",
   "execution_count": 1,
   "metadata": {},
   "outputs": [
    {
     "name": "stdout",
     "output_type": "stream",
     "text": [
      "Imports successful!\n"
     ]
    }
   ],
   "source": [
    "%matplotlib inline\n",
    "\n",
    "try:\n",
    "    import scipy.stats as stats\n",
    "    import numpy as np\n",
    "    import pandas as pd\n",
    "    import matplotlib.pyplot as plt\n",
    "    import seaborn as sns\n",
    "except ModuleNotFoundError as err:\n",
    "    print(\"Python says:\", err, \"... possibly because it isn't installed on your system?\")\n",
    "except:\n",
    "    print(\"Some other error occurred when importing.\")\n",
    "else:\n",
    "    print(\"Imports successful!\")\n",
    "    sns.set()"
   ]
  },
  {
   "cell_type": "markdown",
   "metadata": {},
   "source": [
    "# $\\color{blue}{\\textbf{The Dataset}}$\n",
    "\n",
    "</br></br>\n",
    "\n",
    "### <p align=\"justify\" style=\"line-height:25px\">The dataset we will be using for this project is a CSV file named $\\color{blue}{\\texttt{creditcard.csv}}$, which you can find on our [GitHub repository](https://github.com/semana-i-2019) in the $\\color{blue}{\\texttt{Fighting Fraud}}$ folder.\n",
    "\n",
    "### $\\color{red}{\\textbf{Note: Since the file is 66 MB, do not try and print its contents in a Notebook cell:}}$\n",
    "\n",
    "### <p align=\"justify\" style=\"line-height:25px\">This will either crash the Notebook, or take too long to process, or take up a rididculous amount of space in your Notebook (which you do not want to have to take forever to scroll through). Besides, getting a grasp of what your data looks like is part of the challenge of data exploration!</p>"
   ]
  },
  {
   "cell_type": "markdown",
   "metadata": {},
   "source": [
    "<a id='Original-DataFrame'></a>\n",
    "<img src=\"Images/broke.jpg\" width=\"100\" align=\"Left\"/> \n",
    "<h1>$\\,\\,\\,\\color{blue}{\\textbf{Read the data}}$</h1>\n",
    "\n",
    "### <br>[Read the file](https://pandas.pydata.org/pandas-docs/stable/reference/api/pandas.read_csv.html) $\\color{blue}{\\texttt{creditcard.csv}}$ and name it ${\\color{blue}{\\texttt{df}\\_{\\text{orig}}}}$ as in \"DataFrame Original\"."
   ]
  },
  {
   "cell_type": "code",
   "execution_count": 2,
   "metadata": {},
   "outputs": [
    {
     "data": {
      "text/html": [
       "<div>\n",
       "<style scoped>\n",
       "    .dataframe tbody tr th:only-of-type {\n",
       "        vertical-align: middle;\n",
       "    }\n",
       "\n",
       "    .dataframe tbody tr th {\n",
       "        vertical-align: top;\n",
       "    }\n",
       "\n",
       "    .dataframe thead th {\n",
       "        text-align: right;\n",
       "    }\n",
       "</style>\n",
       "<table border=\"1\" class=\"dataframe\">\n",
       "  <thead>\n",
       "    <tr style=\"text-align: right;\">\n",
       "      <th></th>\n",
       "      <th>Time</th>\n",
       "      <th>V1</th>\n",
       "      <th>V2</th>\n",
       "      <th>V3</th>\n",
       "      <th>V4</th>\n",
       "      <th>V5</th>\n",
       "      <th>V6</th>\n",
       "      <th>V7</th>\n",
       "      <th>V8</th>\n",
       "      <th>V9</th>\n",
       "      <th>...</th>\n",
       "      <th>V21</th>\n",
       "      <th>V22</th>\n",
       "      <th>V23</th>\n",
       "      <th>V24</th>\n",
       "      <th>V25</th>\n",
       "      <th>V26</th>\n",
       "      <th>V27</th>\n",
       "      <th>V28</th>\n",
       "      <th>Amount</th>\n",
       "      <th>Class</th>\n",
       "    </tr>\n",
       "  </thead>\n",
       "  <tbody>\n",
       "    <tr>\n",
       "      <th>0</th>\n",
       "      <td>0.0</td>\n",
       "      <td>-1.359807</td>\n",
       "      <td>-0.072781</td>\n",
       "      <td>2.536347</td>\n",
       "      <td>1.378155</td>\n",
       "      <td>-0.338321</td>\n",
       "      <td>0.462388</td>\n",
       "      <td>0.239599</td>\n",
       "      <td>0.098698</td>\n",
       "      <td>0.363787</td>\n",
       "      <td>...</td>\n",
       "      <td>-0.018307</td>\n",
       "      <td>0.277838</td>\n",
       "      <td>-0.110474</td>\n",
       "      <td>0.066928</td>\n",
       "      <td>0.128539</td>\n",
       "      <td>-0.189115</td>\n",
       "      <td>0.133558</td>\n",
       "      <td>-0.021053</td>\n",
       "      <td>149.62</td>\n",
       "      <td>0</td>\n",
       "    </tr>\n",
       "    <tr>\n",
       "      <th>1</th>\n",
       "      <td>0.0</td>\n",
       "      <td>1.191857</td>\n",
       "      <td>0.266151</td>\n",
       "      <td>0.166480</td>\n",
       "      <td>0.448154</td>\n",
       "      <td>0.060018</td>\n",
       "      <td>-0.082361</td>\n",
       "      <td>-0.078803</td>\n",
       "      <td>0.085102</td>\n",
       "      <td>-0.255425</td>\n",
       "      <td>...</td>\n",
       "      <td>-0.225775</td>\n",
       "      <td>-0.638672</td>\n",
       "      <td>0.101288</td>\n",
       "      <td>-0.339846</td>\n",
       "      <td>0.167170</td>\n",
       "      <td>0.125895</td>\n",
       "      <td>-0.008983</td>\n",
       "      <td>0.014724</td>\n",
       "      <td>2.69</td>\n",
       "      <td>0</td>\n",
       "    </tr>\n",
       "    <tr>\n",
       "      <th>2</th>\n",
       "      <td>1.0</td>\n",
       "      <td>-1.358354</td>\n",
       "      <td>-1.340163</td>\n",
       "      <td>1.773209</td>\n",
       "      <td>0.379780</td>\n",
       "      <td>-0.503198</td>\n",
       "      <td>1.800499</td>\n",
       "      <td>0.791461</td>\n",
       "      <td>0.247676</td>\n",
       "      <td>-1.514654</td>\n",
       "      <td>...</td>\n",
       "      <td>0.247998</td>\n",
       "      <td>0.771679</td>\n",
       "      <td>0.909412</td>\n",
       "      <td>-0.689281</td>\n",
       "      <td>-0.327642</td>\n",
       "      <td>-0.139097</td>\n",
       "      <td>-0.055353</td>\n",
       "      <td>-0.059752</td>\n",
       "      <td>378.66</td>\n",
       "      <td>0</td>\n",
       "    </tr>\n",
       "    <tr>\n",
       "      <th>3</th>\n",
       "      <td>1.0</td>\n",
       "      <td>-0.966272</td>\n",
       "      <td>-0.185226</td>\n",
       "      <td>1.792993</td>\n",
       "      <td>-0.863291</td>\n",
       "      <td>-0.010309</td>\n",
       "      <td>1.247203</td>\n",
       "      <td>0.237609</td>\n",
       "      <td>0.377436</td>\n",
       "      <td>-1.387024</td>\n",
       "      <td>...</td>\n",
       "      <td>-0.108300</td>\n",
       "      <td>0.005274</td>\n",
       "      <td>-0.190321</td>\n",
       "      <td>-1.175575</td>\n",
       "      <td>0.647376</td>\n",
       "      <td>-0.221929</td>\n",
       "      <td>0.062723</td>\n",
       "      <td>0.061458</td>\n",
       "      <td>123.50</td>\n",
       "      <td>0</td>\n",
       "    </tr>\n",
       "    <tr>\n",
       "      <th>4</th>\n",
       "      <td>2.0</td>\n",
       "      <td>-1.158233</td>\n",
       "      <td>0.877737</td>\n",
       "      <td>1.548718</td>\n",
       "      <td>0.403034</td>\n",
       "      <td>-0.407193</td>\n",
       "      <td>0.095921</td>\n",
       "      <td>0.592941</td>\n",
       "      <td>-0.270533</td>\n",
       "      <td>0.817739</td>\n",
       "      <td>...</td>\n",
       "      <td>-0.009431</td>\n",
       "      <td>0.798278</td>\n",
       "      <td>-0.137458</td>\n",
       "      <td>0.141267</td>\n",
       "      <td>-0.206010</td>\n",
       "      <td>0.502292</td>\n",
       "      <td>0.219422</td>\n",
       "      <td>0.215153</td>\n",
       "      <td>69.99</td>\n",
       "      <td>0</td>\n",
       "    </tr>\n",
       "  </tbody>\n",
       "</table>\n",
       "<p>5 rows × 31 columns</p>\n",
       "</div>"
      ],
      "text/plain": [
       "   Time        V1        V2        V3        V4        V5        V6        V7  \\\n",
       "0   0.0 -1.359807 -0.072781  2.536347  1.378155 -0.338321  0.462388  0.239599   \n",
       "1   0.0  1.191857  0.266151  0.166480  0.448154  0.060018 -0.082361 -0.078803   \n",
       "2   1.0 -1.358354 -1.340163  1.773209  0.379780 -0.503198  1.800499  0.791461   \n",
       "3   1.0 -0.966272 -0.185226  1.792993 -0.863291 -0.010309  1.247203  0.237609   \n",
       "4   2.0 -1.158233  0.877737  1.548718  0.403034 -0.407193  0.095921  0.592941   \n",
       "\n",
       "         V8        V9  ...       V21       V22       V23       V24       V25  \\\n",
       "0  0.098698  0.363787  ... -0.018307  0.277838 -0.110474  0.066928  0.128539   \n",
       "1  0.085102 -0.255425  ... -0.225775 -0.638672  0.101288 -0.339846  0.167170   \n",
       "2  0.247676 -1.514654  ...  0.247998  0.771679  0.909412 -0.689281 -0.327642   \n",
       "3  0.377436 -1.387024  ... -0.108300  0.005274 -0.190321 -1.175575  0.647376   \n",
       "4 -0.270533  0.817739  ... -0.009431  0.798278 -0.137458  0.141267 -0.206010   \n",
       "\n",
       "        V26       V27       V28  Amount  Class  \n",
       "0 -0.189115  0.133558 -0.021053  149.62      0  \n",
       "1  0.125895 -0.008983  0.014724    2.69      0  \n",
       "2 -0.139097 -0.055353 -0.059752  378.66      0  \n",
       "3 -0.221929  0.062723  0.061458  123.50      0  \n",
       "4  0.502292  0.219422  0.215153   69.99      0  \n",
       "\n",
       "[5 rows x 31 columns]"
      ]
     },
     "execution_count": 2,
     "metadata": {},
     "output_type": "execute_result"
    }
   ],
   "source": [
    "df_orig = pd.read_csv('creditcard.csv')\n",
    "df_orig.head()"
   ]
  },
  {
   "cell_type": "markdown",
   "metadata": {},
   "source": [
    "<img src=\"Images/exploratory.png\" alt=\"Tec banner\" style=\"display: auto;margin-left:auto;margin-right: auto;width:150%;\"/>"
   ]
  },
  {
   "cell_type": "markdown",
   "metadata": {},
   "source": [
    "### <p align=\"justify\" style=\"line-height:25px\"> We are lucky that the dataset has already been cleaned and properly organised to allow it to be read straight into a pandas DataFrame data structure. Thus, it is already structured into rows and columns $\\dots$ much like a Microsoft Excel spreadsheet $\\dots$ and those columns are appropriately named. However, it is still invaluable to thoroughly explore the dataset to be totally satisfied. For example, how can we be completely confident there are no $\\color{blue}{\\texttt{n/a}}$ or $\\color{blue}{\\texttt{nan}}$ to deal with?</p> "
   ]
  },
  {
   "cell_type": "markdown",
   "metadata": {},
   "source": [
    "<h1>$\\color{blue}{\\textbf{𝐐𝐮𝐢𝐜𝐤 𝐃𝐚𝐭𝐚𝐅𝐫𝐚𝐦𝐞 𝐬𝐮𝐦𝐦𝐚𝐫𝐲}}$</h1>"
   ]
  },
  {
   "cell_type": "markdown",
   "metadata": {},
   "source": [
    "<img src=\"Images/broke.jpg\" width=\"100\" align=\"Left\"/> \n",
    "<h1>$\\,\\,\\,\\color{blue}{\\textbf{How many transactions and variables are there?}}$</h1>\n",
    "\n",
    "### <p align=\"justify\" style=\"line-height:25px\">Use the [pandas shape](<https://pandas.pydata.org/pandas-docs/stable/reference/api/pandas.DataFrame.shape.html>) attribute to return the dimensions of the DataFrame.<br><br>This command returns a [tuple](<https://docs.python.org/3.3/tutorial/datastructures.html#tuples-and-sequences>) that represents the dimensionality of the DataFrame - that is, the number of rows, and number of columns.<br><br>Note how we can access the rows and then the columns separately by using the index operator (the square brackets) with $0$ for rows, and $1$ for columns. Again, as noted above, try to think of the DataFrame as if it were a Microsoft Excel spreadsheet.</p>"
   ]
  },
  {
   "cell_type": "code",
   "execution_count": 3,
   "metadata": {},
   "outputs": [
    {
     "data": {
      "text/plain": [
       "(284807, 31)"
      ]
     },
     "execution_count": 3,
     "metadata": {},
     "output_type": "execute_result"
    }
   ],
   "source": [
    "df_orig.shape\n"
   ]
  },
  {
   "cell_type": "markdown",
   "metadata": {},
   "source": [
    "<a id='info'></a>\n",
    "<img src=\"Images/broke.jpg\" width=\"100\" align=\"Left\"/> \n",
    "<h1>$\\,\\,\\,\\color{blue}{\\textbf{How can we get a summary of the DataFrame?}}$</h1>\n",
    "\n",
    "### <br> <p align=\"justify\" style=\"line-height:25px\">Particularly, let us get [information about our DataFrame's](<https://pandas.pydata.org/pandas-docs/stable/reference/api/pandas.DataFrame.info.html>) column names, column data types, and whether there are any null ($\\color{blue}{\\texttt{n/a}}$ or $\\color{blue}{\\texttt{nan}}$) values to deal with."
   ]
  },
  {
   "cell_type": "code",
   "execution_count": 4,
   "metadata": {},
   "outputs": [
    {
     "name": "stdout",
     "output_type": "stream",
     "text": [
      "<class 'pandas.core.frame.DataFrame'>\n",
      "RangeIndex: 284807 entries, 0 to 284806\n",
      "Data columns (total 31 columns):\n",
      "Time      284807 non-null float64\n",
      "V1        284807 non-null float64\n",
      "V2        284807 non-null float64\n",
      "V3        284807 non-null float64\n",
      "V4        284807 non-null float64\n",
      "V5        284807 non-null float64\n",
      "V6        284807 non-null float64\n",
      "V7        284807 non-null float64\n",
      "V8        284807 non-null float64\n",
      "V9        284807 non-null float64\n",
      "V10       284807 non-null float64\n",
      "V11       284807 non-null float64\n",
      "V12       284807 non-null float64\n",
      "V13       284807 non-null float64\n",
      "V14       284807 non-null float64\n",
      "V15       284807 non-null float64\n",
      "V16       284807 non-null float64\n",
      "V17       284807 non-null float64\n",
      "V18       284807 non-null float64\n",
      "V19       284807 non-null float64\n",
      "V20       284807 non-null float64\n",
      "V21       284807 non-null float64\n",
      "V22       284807 non-null float64\n",
      "V23       284807 non-null float64\n",
      "V24       284807 non-null float64\n",
      "V25       284807 non-null float64\n",
      "V26       284807 non-null float64\n",
      "V27       284807 non-null float64\n",
      "V28       284807 non-null float64\n",
      "Amount    284807 non-null float64\n",
      "Class     284807 non-null int64\n",
      "dtypes: float64(30), int64(1)\n",
      "memory usage: 67.4 MB\n"
     ]
    }
   ],
   "source": [
    "df_orig.info()\n"
   ]
  },
  {
   "cell_type": "markdown",
   "metadata": {},
   "source": [
    "<img src=\"Images/broke.jpg\" width=\"100\" align=\"Left\"/>\n",
    "<h1>$\\,\\,\\,\\color{blue}{\\textbf{A random sample of n transactions}}$</h1>\n",
    "\n",
    "### <p align=\"justify\" style=\"line-height:25px\">Since the dataset is so big, printing it out here (or indeed trying to open it in Microsoft Excel) is either impractical or just not possible. In which case, we can ask pandas to show us a random sample of n rows (all columns) using the [sample method](<https://pandas.pydata.org/pandas-docs/stable/reference/api/pandas.DataFrame.sample.html>).<br><br> The $\\color{blue}{\\texttt{axis}}$ you choose defaults to $\\color{blue}{\\texttt{None}}$, which fallsback to the data type of the object ([${\\color{blue}{\\texttt{df}\\_{\\text{orig}}}}$](#Original-DataFrame)) that you're querying ( $0$ for Series and DataFrames, $1$ for Panels). Thus, to be specific, we explicitly choose axis $0$, so that we get back a random sampling of rows from our DataFrame."
   ]
  },
  {
   "cell_type": "code",
   "execution_count": 5,
   "metadata": {},
   "outputs": [
    {
     "name": "stdout",
     "output_type": "stream",
     "text": [
      "Index(['Time', 'V1', 'V2', 'V3', 'V4', 'V5', 'V6', 'V7', 'V8', 'V9', 'V10',\n",
      "       'V11', 'V12', 'V13', 'V14', 'V15', 'V16', 'V17', 'V18', 'V19', 'V20',\n",
      "       'V21', 'V22', 'V23', 'V24', 'V25', 'V26', 'V27', 'V28', 'Amount',\n",
      "       'Class'],\n",
      "      dtype='object')\n",
      "             V28       V19        V4         V1       V24\n",
      "0      -0.021053  0.403993  1.378155  -1.359807  0.066928\n",
      "1       0.014724 -0.145783  0.448154   1.191857 -0.339846\n",
      "2      -0.059752 -2.261857  0.379780  -1.358354 -0.689281\n",
      "3       0.061458 -1.232622 -0.863291  -0.966272 -1.175575\n",
      "4       0.215153  0.803487  0.403034  -1.158233  0.141267\n",
      "5       0.081080 -0.033194 -0.168252  -0.425966 -0.371427\n",
      "6       0.005168 -0.045575  1.202613   1.229658 -0.780055\n",
      "7      -1.085339  0.324505 -0.492199  -0.644269 -0.649709\n",
      "8       0.142404  0.570328 -0.271526  -0.894286  1.011592\n",
      "9       0.083076  0.451773 -0.222187  -0.338262 -0.385050\n",
      "10      0.016253 -0.221365 -1.375667   1.449044  0.500512\n",
      "11     -0.054337  0.707664 -0.094019   0.384978  0.996710\n",
      "12      0.042422 -0.683193 -1.234899   1.249999  0.392831\n",
      "13      0.021293 -0.982916  2.712520   1.069374  0.104744\n",
      "14     -0.030154  2.221868  1.767473  -2.791855  0.028317\n",
      "15      0.129394  0.432535 -1.468643  -0.752417 -0.065084\n",
      "16      0.037051 -0.575682  1.289091   1.103215  0.103758\n",
      "17      0.131024  0.025436 -0.727219  -0.436905 -0.888386\n",
      "18      0.949594 -0.406867  1.736239  -5.401258  0.042119\n",
      "19      0.007602  0.054230 -1.438026   1.492936  0.295814\n",
      "20      0.063499 -1.300408  0.834159   0.694885 -0.304215\n",
      "21     -0.014605 -2.027612  2.109204   0.962496 -1.371866\n",
      "22     -0.011418 -0.816597  2.261569   1.166616 -0.370415\n",
      "23      0.250475  2.177807 -0.092603   0.247491  0.423073\n",
      "24      0.014600  0.488603 -1.013057  -1.946525  0.983421\n",
      "25      0.243232  0.505751  0.410008  -2.074295  0.398535\n",
      "26      0.030041 -0.390934  1.133563   1.173285  0.435045\n",
      "27      0.028822 -1.240622  0.576038   1.322707  0.347151\n",
      "28      0.152665  0.543969  1.473471  -0.414289  0.642522\n",
      "29      0.024220 -0.277834  1.186110   1.059387  0.002951\n",
      "...          ...       ...       ...        ...       ...\n",
      "284777 -0.060283 -0.205470  0.358000   2.079137  0.001344\n",
      "284778 -0.065285 -0.022064 -0.418847  -0.764523  0.587119\n",
      "284779 -0.066542  0.295402 -0.406246   1.975178  0.768379\n",
      "284780  0.233265  0.757367  1.148583  -1.727503  1.158185\n",
      "284781 -0.149188  0.546517 -1.138957  -1.139015  0.212931\n",
      "284782 -0.072447  1.091523  4.846661  -0.268061 -0.681794\n",
      "284783 -0.080620 -0.202990 -1.689844  -1.796092  0.721269\n",
      "284784 -0.187719 -0.671301 -1.560729  -0.669662  0.651122\n",
      "284785  0.090245 -0.206385 -1.729828   0.032887  0.688519\n",
      "284786  0.172923 -0.354163 -1.888063  -2.076175  0.632444\n",
      "284787  0.255347 -0.014378 -0.840816  -1.029719  0.107812\n",
      "284788 -0.041367 -0.082349  0.335261   2.007418  0.064819\n",
      "284789  0.229921  0.744416  0.981577  -0.446951 -0.038712\n",
      "284790 -0.021486  0.180495 -0.677037  -0.515513  0.000607\n",
      "284791  0.023079  0.077652 -0.530365  -0.863506 -0.003988\n",
      "284792 -0.030692  0.182152 -0.607190  -0.724123  0.242669\n",
      "284793 -0.043716 -0.356789 -0.617643   1.971002  0.726365\n",
      "284794  0.126494 -0.518738 -0.723919  -1.266580 -0.076790\n",
      "284795  1.232864 -0.571605 -2.510473 -12.516732 -1.253276\n",
      "284796 -0.041068 -0.283278  1.506772   1.884849 -0.053206\n",
      "284797  0.081265 -0.290491 -0.463406  -0.241923  0.371441\n",
      "284798  0.215243  2.894952  0.960928   0.219529  0.057688\n",
      "284799  0.130308  0.792135  0.331096  -1.775135  0.745323\n",
      "284800 -0.075071  0.561695  0.234580   2.039560 -0.359769\n",
      "284801  0.068803  0.128904 -0.745097   0.120316  0.102800\n",
      "284802  0.823731 -0.682920 -2.066656 -11.881118 -0.509348\n",
      "284803 -0.053527 -1.545556 -0.738589  -0.732789 -1.016226\n",
      "284804 -0.026561 -0.577252 -0.557828   1.919565  0.640134\n",
      "284805  0.104533  2.897849  0.689799  -0.240440  0.123205\n",
      "284806  0.013649 -0.256117 -0.506271  -0.533413  0.008797\n",
      "\n",
      "[284807 rows x 5 columns]\n"
     ]
    }
   ],
   "source": [
    "print(df_orig.columns)\n",
    "print(df_orig.sample(n=5, axis=1, random_state=20))\n"
   ]
  },
  {
   "cell_type": "markdown",
   "metadata": {},
   "source": [
    "<img src=\"Images/an1.jpg\" width=\"100\" align=\"Left\"/> \n",
    "<h1>$\\,\\,\\,\\color{blue}{\\textbf{Anonymised Data}}$</h1>\n",
    "    \n",
    "### <p style=\"line-height:25px\">  We're dealing with a dataset of credit card transactions, but for data protection purposes, the data has been anonymised, which is why we see column labels such as V1, V2, etc. And it is also why, unfortunately, we probably wont be able to say much more about these columns nor draw many more conclusions from them.<br><br>After a transaction is authorized, it becomes a vector with few variables such as $\\color{blue}{\\texttt{Card}\\_{\\texttt{Id}}}$, $\\color{blue}{\\texttt{Amount}}$, $\\color{blue}{\\texttt{Date}}$, $\\color{blue}{\\texttt{Merchant}}$, $\\color{blue}{\\texttt{Product}}$ and so on. New features are aggregated, features such as number of daily transactions, weekly average expenditure, etc., and then merged with the original features to form a new vector which is analyzed in typically less than six seconds.<br><br>Due to confidentiality issues, banks cannot provide the original features and more background information about the data. Features V1, V2,$\\dots$, V28 are the principal components obtained with a [Principal Component Analysis (PCA)](https://www.sciencedirect.com/topics/engineering/principal-component-analysis) transformation. The only features which have not been transformed with PCA are $\\color{blue}{\\texttt{Time}}$, $\\color{blue}{\\texttt{Amount}}$ and $\\color{blue}{\\texttt{Class}}$.\n",
    "    \n",
    "<img src=\"Images/pca.jpeg\" alt=\"PCA\" style=\"display: auto;margin-left:auto;margin-right: auto;width:35%;\"/>\n",
    "    \n",
    "### <p style=\"line-height:25px\">Principal component analysis (PCA) is a multivariate analysis technique, which transforms original data into new uncorrelated variables called principal components (PCs). The original data are treated as independent variables and each PC is a linear combination of these original variables. The PCs form the basis of a vector space and they are arranged in order of decreasing variance. Thus the first PC carries the most information regarding the original data, and so on.<br><br>Apart from producing derived variables for use in supervised learning problems, PCA produces a low-dimensional representation of a data set; it also serves as a tool for data visualization.\n",
    "\n",
    "</p>\n"
   ]
  },
  {
   "cell_type": "markdown",
   "metadata": {},
   "source": [
    "<img src=\"Images/broke.jpg\" width=\"100\" align=\"Left\"/> \n",
    "<h1>$\\,\\,\\,\\color{blue}{\\textbf{DataFrame Descriptive Statistics}}$</h1>\n",
    "\n",
    "### <p align=\"justify\" style=\"line-height:25px\">Generate descriptive statistics that summarize the DataFrame values.<br><br>The feature $\\color{blue}{\\texttt{Class}}$ is the response variable and it takes a value $1$ in case of fraud and $0$ otherwise; therefore, exclude the column $\\color{blue}{\\texttt{Class}}$ from the report, since reporting descriptive statistics does not make any sense for this column.<br> $\\color{red}{\\textbf{Hint}}$: You want to exclude an [int64-type object](#info).<br><br>The pandas method [describe](<https://pandas.pydata.org/pandas-docs/stable/reference/api/pandas.DataFrame.describe.html>) analyzes both numeric and object data types, as well as DataFrame column sets of mixed data types.<br><br>From the profile report above we know that the data types are all numeric - so we should expect $\\color{blue}{\\texttt{describe}}$ to return, for each column, a standard five-number summary (minimum, lower quartile, median, upper quartile, maximum) as well as a report on the dataset's dispersion, central tendency, and a count of how many rows there are.</p>"
   ]
  },
  {
   "cell_type": "code",
   "execution_count": 6,
   "metadata": {},
   "outputs": [
    {
     "data": {
      "text/html": [
       "<div>\n",
       "<style scoped>\n",
       "    .dataframe tbody tr th:only-of-type {\n",
       "        vertical-align: middle;\n",
       "    }\n",
       "\n",
       "    .dataframe tbody tr th {\n",
       "        vertical-align: top;\n",
       "    }\n",
       "\n",
       "    .dataframe thead th {\n",
       "        text-align: right;\n",
       "    }\n",
       "</style>\n",
       "<table border=\"1\" class=\"dataframe\">\n",
       "  <thead>\n",
       "    <tr style=\"text-align: right;\">\n",
       "      <th></th>\n",
       "      <th>Time</th>\n",
       "      <th>V1</th>\n",
       "      <th>V2</th>\n",
       "      <th>V3</th>\n",
       "      <th>V4</th>\n",
       "      <th>V5</th>\n",
       "      <th>V6</th>\n",
       "      <th>V7</th>\n",
       "      <th>V8</th>\n",
       "      <th>V9</th>\n",
       "      <th>...</th>\n",
       "      <th>V20</th>\n",
       "      <th>V21</th>\n",
       "      <th>V22</th>\n",
       "      <th>V23</th>\n",
       "      <th>V24</th>\n",
       "      <th>V25</th>\n",
       "      <th>V26</th>\n",
       "      <th>V27</th>\n",
       "      <th>V28</th>\n",
       "      <th>Amount</th>\n",
       "    </tr>\n",
       "  </thead>\n",
       "  <tbody>\n",
       "    <tr>\n",
       "      <th>count</th>\n",
       "      <td>284807.000000</td>\n",
       "      <td>2.848070e+05</td>\n",
       "      <td>2.848070e+05</td>\n",
       "      <td>2.848070e+05</td>\n",
       "      <td>2.848070e+05</td>\n",
       "      <td>2.848070e+05</td>\n",
       "      <td>2.848070e+05</td>\n",
       "      <td>2.848070e+05</td>\n",
       "      <td>2.848070e+05</td>\n",
       "      <td>2.848070e+05</td>\n",
       "      <td>...</td>\n",
       "      <td>2.848070e+05</td>\n",
       "      <td>2.848070e+05</td>\n",
       "      <td>2.848070e+05</td>\n",
       "      <td>2.848070e+05</td>\n",
       "      <td>2.848070e+05</td>\n",
       "      <td>2.848070e+05</td>\n",
       "      <td>2.848070e+05</td>\n",
       "      <td>2.848070e+05</td>\n",
       "      <td>2.848070e+05</td>\n",
       "      <td>284807.000000</td>\n",
       "    </tr>\n",
       "    <tr>\n",
       "      <th>mean</th>\n",
       "      <td>94813.859575</td>\n",
       "      <td>3.919560e-15</td>\n",
       "      <td>5.688174e-16</td>\n",
       "      <td>-8.769071e-15</td>\n",
       "      <td>2.782312e-15</td>\n",
       "      <td>-1.552563e-15</td>\n",
       "      <td>2.010663e-15</td>\n",
       "      <td>-1.694249e-15</td>\n",
       "      <td>-1.927028e-16</td>\n",
       "      <td>-3.137024e-15</td>\n",
       "      <td>...</td>\n",
       "      <td>5.085503e-16</td>\n",
       "      <td>1.537294e-16</td>\n",
       "      <td>7.959909e-16</td>\n",
       "      <td>5.367590e-16</td>\n",
       "      <td>4.458112e-15</td>\n",
       "      <td>1.453003e-15</td>\n",
       "      <td>1.699104e-15</td>\n",
       "      <td>-3.660161e-16</td>\n",
       "      <td>-1.206049e-16</td>\n",
       "      <td>88.349619</td>\n",
       "    </tr>\n",
       "    <tr>\n",
       "      <th>std</th>\n",
       "      <td>47488.145955</td>\n",
       "      <td>1.958696e+00</td>\n",
       "      <td>1.651309e+00</td>\n",
       "      <td>1.516255e+00</td>\n",
       "      <td>1.415869e+00</td>\n",
       "      <td>1.380247e+00</td>\n",
       "      <td>1.332271e+00</td>\n",
       "      <td>1.237094e+00</td>\n",
       "      <td>1.194353e+00</td>\n",
       "      <td>1.098632e+00</td>\n",
       "      <td>...</td>\n",
       "      <td>7.709250e-01</td>\n",
       "      <td>7.345240e-01</td>\n",
       "      <td>7.257016e-01</td>\n",
       "      <td>6.244603e-01</td>\n",
       "      <td>6.056471e-01</td>\n",
       "      <td>5.212781e-01</td>\n",
       "      <td>4.822270e-01</td>\n",
       "      <td>4.036325e-01</td>\n",
       "      <td>3.300833e-01</td>\n",
       "      <td>250.120109</td>\n",
       "    </tr>\n",
       "    <tr>\n",
       "      <th>min</th>\n",
       "      <td>0.000000</td>\n",
       "      <td>-5.640751e+01</td>\n",
       "      <td>-7.271573e+01</td>\n",
       "      <td>-4.832559e+01</td>\n",
       "      <td>-5.683171e+00</td>\n",
       "      <td>-1.137433e+02</td>\n",
       "      <td>-2.616051e+01</td>\n",
       "      <td>-4.355724e+01</td>\n",
       "      <td>-7.321672e+01</td>\n",
       "      <td>-1.343407e+01</td>\n",
       "      <td>...</td>\n",
       "      <td>-5.449772e+01</td>\n",
       "      <td>-3.483038e+01</td>\n",
       "      <td>-1.093314e+01</td>\n",
       "      <td>-4.480774e+01</td>\n",
       "      <td>-2.836627e+00</td>\n",
       "      <td>-1.029540e+01</td>\n",
       "      <td>-2.604551e+00</td>\n",
       "      <td>-2.256568e+01</td>\n",
       "      <td>-1.543008e+01</td>\n",
       "      <td>0.000000</td>\n",
       "    </tr>\n",
       "    <tr>\n",
       "      <th>25%</th>\n",
       "      <td>54201.500000</td>\n",
       "      <td>-9.203734e-01</td>\n",
       "      <td>-5.985499e-01</td>\n",
       "      <td>-8.903648e-01</td>\n",
       "      <td>-8.486401e-01</td>\n",
       "      <td>-6.915971e-01</td>\n",
       "      <td>-7.682956e-01</td>\n",
       "      <td>-5.540759e-01</td>\n",
       "      <td>-2.086297e-01</td>\n",
       "      <td>-6.430976e-01</td>\n",
       "      <td>...</td>\n",
       "      <td>-2.117214e-01</td>\n",
       "      <td>-2.283949e-01</td>\n",
       "      <td>-5.423504e-01</td>\n",
       "      <td>-1.618463e-01</td>\n",
       "      <td>-3.545861e-01</td>\n",
       "      <td>-3.171451e-01</td>\n",
       "      <td>-3.269839e-01</td>\n",
       "      <td>-7.083953e-02</td>\n",
       "      <td>-5.295979e-02</td>\n",
       "      <td>5.600000</td>\n",
       "    </tr>\n",
       "    <tr>\n",
       "      <th>50%</th>\n",
       "      <td>84692.000000</td>\n",
       "      <td>1.810880e-02</td>\n",
       "      <td>6.548556e-02</td>\n",
       "      <td>1.798463e-01</td>\n",
       "      <td>-1.984653e-02</td>\n",
       "      <td>-5.433583e-02</td>\n",
       "      <td>-2.741871e-01</td>\n",
       "      <td>4.010308e-02</td>\n",
       "      <td>2.235804e-02</td>\n",
       "      <td>-5.142873e-02</td>\n",
       "      <td>...</td>\n",
       "      <td>-6.248109e-02</td>\n",
       "      <td>-2.945017e-02</td>\n",
       "      <td>6.781943e-03</td>\n",
       "      <td>-1.119293e-02</td>\n",
       "      <td>4.097606e-02</td>\n",
       "      <td>1.659350e-02</td>\n",
       "      <td>-5.213911e-02</td>\n",
       "      <td>1.342146e-03</td>\n",
       "      <td>1.124383e-02</td>\n",
       "      <td>22.000000</td>\n",
       "    </tr>\n",
       "    <tr>\n",
       "      <th>75%</th>\n",
       "      <td>139320.500000</td>\n",
       "      <td>1.315642e+00</td>\n",
       "      <td>8.037239e-01</td>\n",
       "      <td>1.027196e+00</td>\n",
       "      <td>7.433413e-01</td>\n",
       "      <td>6.119264e-01</td>\n",
       "      <td>3.985649e-01</td>\n",
       "      <td>5.704361e-01</td>\n",
       "      <td>3.273459e-01</td>\n",
       "      <td>5.971390e-01</td>\n",
       "      <td>...</td>\n",
       "      <td>1.330408e-01</td>\n",
       "      <td>1.863772e-01</td>\n",
       "      <td>5.285536e-01</td>\n",
       "      <td>1.476421e-01</td>\n",
       "      <td>4.395266e-01</td>\n",
       "      <td>3.507156e-01</td>\n",
       "      <td>2.409522e-01</td>\n",
       "      <td>9.104512e-02</td>\n",
       "      <td>7.827995e-02</td>\n",
       "      <td>77.165000</td>\n",
       "    </tr>\n",
       "    <tr>\n",
       "      <th>max</th>\n",
       "      <td>172792.000000</td>\n",
       "      <td>2.454930e+00</td>\n",
       "      <td>2.205773e+01</td>\n",
       "      <td>9.382558e+00</td>\n",
       "      <td>1.687534e+01</td>\n",
       "      <td>3.480167e+01</td>\n",
       "      <td>7.330163e+01</td>\n",
       "      <td>1.205895e+02</td>\n",
       "      <td>2.000721e+01</td>\n",
       "      <td>1.559499e+01</td>\n",
       "      <td>...</td>\n",
       "      <td>3.942090e+01</td>\n",
       "      <td>2.720284e+01</td>\n",
       "      <td>1.050309e+01</td>\n",
       "      <td>2.252841e+01</td>\n",
       "      <td>4.584549e+00</td>\n",
       "      <td>7.519589e+00</td>\n",
       "      <td>3.517346e+00</td>\n",
       "      <td>3.161220e+01</td>\n",
       "      <td>3.384781e+01</td>\n",
       "      <td>25691.160000</td>\n",
       "    </tr>\n",
       "  </tbody>\n",
       "</table>\n",
       "<p>8 rows × 30 columns</p>\n",
       "</div>"
      ],
      "text/plain": [
       "                Time            V1            V2            V3            V4  \\\n",
       "count  284807.000000  2.848070e+05  2.848070e+05  2.848070e+05  2.848070e+05   \n",
       "mean    94813.859575  3.919560e-15  5.688174e-16 -8.769071e-15  2.782312e-15   \n",
       "std     47488.145955  1.958696e+00  1.651309e+00  1.516255e+00  1.415869e+00   \n",
       "min         0.000000 -5.640751e+01 -7.271573e+01 -4.832559e+01 -5.683171e+00   \n",
       "25%     54201.500000 -9.203734e-01 -5.985499e-01 -8.903648e-01 -8.486401e-01   \n",
       "50%     84692.000000  1.810880e-02  6.548556e-02  1.798463e-01 -1.984653e-02   \n",
       "75%    139320.500000  1.315642e+00  8.037239e-01  1.027196e+00  7.433413e-01   \n",
       "max    172792.000000  2.454930e+00  2.205773e+01  9.382558e+00  1.687534e+01   \n",
       "\n",
       "                 V5            V6            V7            V8            V9  \\\n",
       "count  2.848070e+05  2.848070e+05  2.848070e+05  2.848070e+05  2.848070e+05   \n",
       "mean  -1.552563e-15  2.010663e-15 -1.694249e-15 -1.927028e-16 -3.137024e-15   \n",
       "std    1.380247e+00  1.332271e+00  1.237094e+00  1.194353e+00  1.098632e+00   \n",
       "min   -1.137433e+02 -2.616051e+01 -4.355724e+01 -7.321672e+01 -1.343407e+01   \n",
       "25%   -6.915971e-01 -7.682956e-01 -5.540759e-01 -2.086297e-01 -6.430976e-01   \n",
       "50%   -5.433583e-02 -2.741871e-01  4.010308e-02  2.235804e-02 -5.142873e-02   \n",
       "75%    6.119264e-01  3.985649e-01  5.704361e-01  3.273459e-01  5.971390e-01   \n",
       "max    3.480167e+01  7.330163e+01  1.205895e+02  2.000721e+01  1.559499e+01   \n",
       "\n",
       "       ...           V20           V21           V22           V23  \\\n",
       "count  ...  2.848070e+05  2.848070e+05  2.848070e+05  2.848070e+05   \n",
       "mean   ...  5.085503e-16  1.537294e-16  7.959909e-16  5.367590e-16   \n",
       "std    ...  7.709250e-01  7.345240e-01  7.257016e-01  6.244603e-01   \n",
       "min    ... -5.449772e+01 -3.483038e+01 -1.093314e+01 -4.480774e+01   \n",
       "25%    ... -2.117214e-01 -2.283949e-01 -5.423504e-01 -1.618463e-01   \n",
       "50%    ... -6.248109e-02 -2.945017e-02  6.781943e-03 -1.119293e-02   \n",
       "75%    ...  1.330408e-01  1.863772e-01  5.285536e-01  1.476421e-01   \n",
       "max    ...  3.942090e+01  2.720284e+01  1.050309e+01  2.252841e+01   \n",
       "\n",
       "                V24           V25           V26           V27           V28  \\\n",
       "count  2.848070e+05  2.848070e+05  2.848070e+05  2.848070e+05  2.848070e+05   \n",
       "mean   4.458112e-15  1.453003e-15  1.699104e-15 -3.660161e-16 -1.206049e-16   \n",
       "std    6.056471e-01  5.212781e-01  4.822270e-01  4.036325e-01  3.300833e-01   \n",
       "min   -2.836627e+00 -1.029540e+01 -2.604551e+00 -2.256568e+01 -1.543008e+01   \n",
       "25%   -3.545861e-01 -3.171451e-01 -3.269839e-01 -7.083953e-02 -5.295979e-02   \n",
       "50%    4.097606e-02  1.659350e-02 -5.213911e-02  1.342146e-03  1.124383e-02   \n",
       "75%    4.395266e-01  3.507156e-01  2.409522e-01  9.104512e-02  7.827995e-02   \n",
       "max    4.584549e+00  7.519589e+00  3.517346e+00  3.161220e+01  3.384781e+01   \n",
       "\n",
       "              Amount  \n",
       "count  284807.000000  \n",
       "mean       88.349619  \n",
       "std       250.120109  \n",
       "min         0.000000  \n",
       "25%         5.600000  \n",
       "50%        22.000000  \n",
       "75%        77.165000  \n",
       "max     25691.160000  \n",
       "\n",
       "[8 rows x 30 columns]"
      ]
     },
     "execution_count": 6,
     "metadata": {},
     "output_type": "execute_result"
    }
   ],
   "source": [
    "df_orig.drop(columns=['Class']).describe()\n"
   ]
  },
  {
   "cell_type": "markdown",
   "metadata": {},
   "source": [
    "<a id='Transaction-Amount-and-Time-Descriptive-Statistics'></a>\n",
    "<img src=\"Images/broke.jpg\" width=\"100\" align=\"Left\"/> \n",
    "<h1>$\\,\\,\\,\\color{blue}{\\textbf{Focus on Time and Amount}}$</h1>\n",
    "\n",
    "### <p align=\"justify\" style=\"line-height:25px\"><br>Feature $\\color{blue}{\\texttt{Time}}$ is the number of seconds elapsed between a particular transaction and the first transaction in the dataset. The feature $\\color{blue}{\\texttt{Amount}}$ is just the transaction amount.<br><br>Columns $\\color{blue}{\\texttt{Amount}}$ and $\\color{blue}{\\texttt{Time}}$ may well provide us with useful information about the spending habits of the \"average\" credit card holder. In turn, this might prove useful for spotting any (fraudulent?) outliers, such as:<br><br>$\\bullet$ Particularly high expenditures - perhaps suggesting a one off money grab by a fraudster?<br><br>$\\bullet$ Obscure spending patterns such as multiple amounts of the same value - perhaps suggesting an automated bot-transaction has been set in action to skim funds from the account holder, without drawing attention to itself?<br><br> Generate the descriptive statistics of these two columns using the [pandas function loc](https://pandas.pydata.org/pandas-docs/stable/reference/api/pandas.DataFrame.loc.html): Focus on all rows (the colon) for column labels $\\color{blue}{\\texttt{Time}}$ and $\\color{blue}{\\texttt{Amount}}$ only (i.e., non-anonymized columns). Then run $\\color{blue}{\\texttt{describe()}}$ on these columns."
   ]
  },
  {
   "cell_type": "code",
   "execution_count": 7,
   "metadata": {},
   "outputs": [
    {
     "data": {
      "text/html": [
       "<div>\n",
       "<style scoped>\n",
       "    .dataframe tbody tr th:only-of-type {\n",
       "        vertical-align: middle;\n",
       "    }\n",
       "\n",
       "    .dataframe tbody tr th {\n",
       "        vertical-align: top;\n",
       "    }\n",
       "\n",
       "    .dataframe thead th {\n",
       "        text-align: right;\n",
       "    }\n",
       "</style>\n",
       "<table border=\"1\" class=\"dataframe\">\n",
       "  <thead>\n",
       "    <tr style=\"text-align: right;\">\n",
       "      <th></th>\n",
       "      <th>Time</th>\n",
       "      <th>Amount</th>\n",
       "    </tr>\n",
       "  </thead>\n",
       "  <tbody>\n",
       "    <tr>\n",
       "      <th>count</th>\n",
       "      <td>284807.000000</td>\n",
       "      <td>284807.000000</td>\n",
       "    </tr>\n",
       "    <tr>\n",
       "      <th>mean</th>\n",
       "      <td>94813.859575</td>\n",
       "      <td>88.349619</td>\n",
       "    </tr>\n",
       "    <tr>\n",
       "      <th>std</th>\n",
       "      <td>47488.145955</td>\n",
       "      <td>250.120109</td>\n",
       "    </tr>\n",
       "    <tr>\n",
       "      <th>min</th>\n",
       "      <td>0.000000</td>\n",
       "      <td>0.000000</td>\n",
       "    </tr>\n",
       "    <tr>\n",
       "      <th>25%</th>\n",
       "      <td>54201.500000</td>\n",
       "      <td>5.600000</td>\n",
       "    </tr>\n",
       "    <tr>\n",
       "      <th>50%</th>\n",
       "      <td>84692.000000</td>\n",
       "      <td>22.000000</td>\n",
       "    </tr>\n",
       "    <tr>\n",
       "      <th>75%</th>\n",
       "      <td>139320.500000</td>\n",
       "      <td>77.165000</td>\n",
       "    </tr>\n",
       "    <tr>\n",
       "      <th>max</th>\n",
       "      <td>172792.000000</td>\n",
       "      <td>25691.160000</td>\n",
       "    </tr>\n",
       "  </tbody>\n",
       "</table>\n",
       "</div>"
      ],
      "text/plain": [
       "                Time         Amount\n",
       "count  284807.000000  284807.000000\n",
       "mean    94813.859575      88.349619\n",
       "std     47488.145955     250.120109\n",
       "min         0.000000       0.000000\n",
       "25%     54201.500000       5.600000\n",
       "50%     84692.000000      22.000000\n",
       "75%    139320.500000      77.165000\n",
       "max    172792.000000   25691.160000"
      ]
     },
     "execution_count": 7,
     "metadata": {},
     "output_type": "execute_result"
    }
   ],
   "source": [
    "df_orig[['Time', 'Amount']].describe()"
   ]
  },
  {
   "cell_type": "markdown",
   "metadata": {},
   "source": [
    "<img src=\"Images/broke.jpg\" width=\"100\" align=\"Left\"/> \n",
    "<h1>$\\,\\,\\,\\color{blue}{\\textbf{Fraudulent and non-fraudulent transactions}}$</h1>\n",
    "\n",
    "### <p align=\"justify\" style=\"line-height:25px\">The column $\\color{blue}{\\texttt{Class}}$ (case-sensitive) contains either a $0$, meaning a regular, non-fraudulent transaction, or a $1$, meaning a fraudulent transaction.<br><br>1. Extract the column class from the DataFrame. Simply typing $\\color{blue}{\\texttt{df}\\_\\texttt{orig.Class}}$ into a Notebook cell will return a [pandas Series object](<https://pandas.pydata.org/pandas-docs/stable/reference/api/pandas.Series.html>), which you can think of as a column of data, where the rows have been labelled (with row numbers). This will contain only the column labelled $\\color{blue}{\\texttt{Class}}$.<br><br>2. Next, rather than saving the above Series object to a variable, \"chain\" a second command onto the end of the $\\color{blue}{\\texttt{df}\\_\\texttt{orig.Class}}$ command above. This second command is the [counts method](<https://pandas.pydata.org/pandas-docs/stable/reference/api/pandas.Series.value_counts.html>), which returns another pandas Series object, only this time containing a count of the occurence of unique values from the original $\\color{blue}{\\texttt{Class}}$ column.<br><br><a id='Fraudulent-non-fraudulent-transactions'></a> 3. Save this chain to a variable called $\\color{blue}{\\texttt{counts}}$. Thus, each unique value from the original $\\color{blue}{\\texttt{Class}}$ column will be given it's own row  with a value that equals the number of times it appears in the original.<br><br> 4. There will be as many rows in this new Series object as there are unique values in the original $\\color{blue}{\\texttt{Class}}$ column. Thus, again, you should expect there to be only two types of elements in the variable $\\color{blue}{\\texttt{counts}}$, one for fraudulent transactions (of value $1$) and one for non-fraudulent transactions (of value $0$). Double check this by using $\\color{blue}{\\texttt{len(counts)}}$, which should equal $2$."
   ]
  },
  {
   "cell_type": "code",
   "execution_count": 8,
   "metadata": {},
   "outputs": [
    {
     "name": "stdout",
     "output_type": "stream",
     "text": [
      "0    284315\n",
      "1       492\n",
      "Name: Class, dtype: int64\n"
     ]
    }
   ],
   "source": [
    "counts = df_orig.Class.value_counts()\n",
    "print(counts)"
   ]
  },
  {
   "cell_type": "markdown",
   "metadata": {},
   "source": [
    "<img src=\"Images/broke.jpg\" width=\"100\" align=\"Left\"/> \n",
    "<h1>$\\,\\,\\,\\color{blue}{\\textbf{Fraudulent vs non-fraudulent transactions}}$</h1>\n",
    "\n",
    "###  <p align=\"justify\" style=\"line-height:25px\">1. Use the variable [$\\color{blue}{\\texttt{counts}}$](#Fraudulent-non-fraudulent-transactions) to count the number of fraudulent and non-fraudulent transactions, and save these counts on variables called ${\\color{blue}{\\texttt{fraud}\\_{\\texttt{count}}}}$ and ${\\color{blue}{\\texttt{non}\\_{\\texttt{fraud}\\_{\\texttt{count}}}}}$, respectively. Use square brackets to select items from [$\\color{blue}{\\texttt{counts}}$](#Fraudulent-non-fraudulent-transactions) that equal whatever is in the bracket; remember, $0$ stands for non-fraudulent and $1$ for fraudulent.<br><br>2. Check that the total number of transactions equals the sum of the number of fraudulent and non-fraudulent transactions.<br><br>3. Print the number of fraudulent and non-fraudulent transactions together with their percentages.</p> "
   ]
  },
  {
   "cell_type": "code",
   "execution_count": 9,
   "metadata": {},
   "outputs": [
    {
     "name": "stdout",
     "output_type": "stream",
     "text": [
      "Fraudulent: 492 0.1727485630620034%\n",
      "Non-Fraudulent: 284315 99.827251436938%\n"
     ]
    }
   ],
   "source": [
    "fraud_count = counts[1]\n",
    "non_fraud_count = counts[0]\n",
    "assert counts[0] + counts[1] == df_orig.shape[0]\n",
    "fraud_percent = (fraud_count/df_orig.shape[0])*100\n",
    "non_fraud_percent = 100 - fraud_percent\n",
    "print(\"Fraudulent: \" + str(fraud_count) + \" \" + str(fraud_percent) + \"%\")\n",
    "print(\"Non-Fraudulent: \" + str(non_fraud_count) + \" \" + str(non_fraud_percent) + \"%\")"
   ]
  },
  {
   "cell_type": "markdown",
   "metadata": {},
   "source": [
    "# $\\color{blue}{\\textbf{Visual Data Exploration}}$\n",
    "\n",
    "### <p align=\"justify\" style=\"line-height:25px\">Numerical data exploration is not the only way we can explore our dataset. Indeed, in many cases, if you only relied on numerical exploration you might miss important details in the data that could mislead you into drawing entirely the wrong conclusions about the dataset."
   ]
  },
  {
   "cell_type": "markdown",
   "metadata": {},
   "source": [
    "<img src=\"Images/broke.jpg\" width=\"100\" align=\"Left\"/> \n",
    "<h1>$\\,\\,\\,\\color{blue}{\\textbf{Transaction Time data distribution}}$</h1>\n",
    "\n",
    "### <p align=\"justify\" style=\"line-height:25px\">Let us deal with just the Transaction Time column of data here - hence, formally, this can be described as a univariate distribution of observations. Thus, head to the [seaborn API](<http://seaborn.pydata.org/api.html#distribution-plots>) and have a look at the range of distribution plots available to us.<br><br>1. Produce either a histogram or a kernel density plot (better both!) of the distribution of Transaction Time data<br><br>2. Describe the distribution you obtained."
   ]
  },
  {
   "cell_type": "code",
   "execution_count": 10,
   "metadata": {
    "scrolled": true
   },
   "outputs": [
    {
     "data": {
      "image/png": "[encoded data removed]",
      "text/plain": [
       "<Figure size 432x288 with 1 Axes>"
      ]
     },
     "metadata": {
      "needs_background": "light"
     },
     "output_type": "display_data"
    }
   ],
   "source": [
    "#df_orig['Time'].plot(kind='hist', title='Time')\n",
    "sns.distplot(df_orig['Time'], kde=True)\n",
    "plt.show()\n"
   ]
  },
  {
   "cell_type": "markdown",
   "metadata": {},
   "source": [
    "The distribution is binomial. It is clear that during the night the amount of transactions is lower. We have an unusual peak around the 75000 mark that throws off the normal distribution."
   ]
  },
  {
   "cell_type": "markdown",
   "metadata": {},
   "source": [
    "<img src=\"Images/broke.jpg\" width=\"100\" align=\"Left\"/> \n",
    "<h1>$\\,\\,\\,\\color{blue}{\\textbf{Transaction Time distribution description}}$</h1>\n",
    "\n",
    "### <p align=\"justify\" style=\"line-height:25px\">Note that the distribution plot shows a binomial distribution. Thus from the point of view of a general statistical description it turns out that although several summary statistics have been suggested to describe such distributions, there is presently no agreed set of statistics that can properly quantify the parameters of [such a general distribution](https://www.thoughtco.com/definition-of-bimodal-in-statistics-3126325) $\\dots\\dots\\dots$"
   ]
  },
  {
   "cell_type": "markdown",
   "metadata": {},
   "source": [
    "<img src=\"Images/broke.jpg\" width=\"100\" align=\"Left\"/> \n",
    "<h1>$\\,\\,\\,\\color{blue}{\\textbf{So what conclusion(s) can we draw ourselves?}}$</h1>\n",
    "\n",
    "### <p align=\"justify\" style=\"line-height:25px\">1. What is the maximum time value? What does it represent?<br><br>$\\color{red}{\\textbf{172792, represents the time in which the last transaction took place (which is 8 seconds  before the end of the second day)}}$<br>$\\color{red}{\\textbf{end of the second day).}}$<br><br>2. Reconcile your answer in part 1 with the distribution you obtained in the previous cell; precisely, what does the transaction time distribution represent?<br><br>$\\color{red}{\\textbf{It represents the frequency of the time in which the transactions were made.}}$<br><br>3. How could you explain the continued credit card activity through the night?<br><br>$\\color{red}{\\textbf{Night shifts, night clubs, midnight shopping sprees, 24-hour businesses, automatic payments.}}$"
   ]
  },
  {
   "cell_type": "code",
   "execution_count": 11,
   "metadata": {},
   "outputs": [
    {
     "data": {
      "text/plain": [
       "172792.0"
      ]
     },
     "execution_count": 11,
     "metadata": {},
     "output_type": "execute_result"
    }
   ],
   "source": [
    "df_orig['Time'].max()"
   ]
  },
  {
   "cell_type": "markdown",
   "metadata": {},
   "source": [
    "<img src=\"Images/broke.jpg\" width=\"100\" align=\"Left\"/> \n",
    "<h1>$\\,\\,\\,\\color{blue}{\\textbf{Transaction Amount data distribution}}$</h1>\n",
    "\n",
    "### <p align=\"justify\" style=\"line-height:25px\">Now let us deal with the Transaction Amount column of data here.<br><br>1. Produce either a histogram or kernel density plot (better both!) of the distribution of Transaction Amount data<br><br>2. Describe the distribution you obtain."
   ]
  },
  {
   "cell_type": "code",
   "execution_count": 12,
   "metadata": {},
   "outputs": [
    {
     "data": {
      "image/png": "[encoded data removed]",
      "text/plain": [
       "<Figure size 432x288 with 1 Axes>"
      ]
     },
     "metadata": {
      "needs_background": "light"
     },
     "output_type": "display_data"
    }
   ],
   "source": [
    "sns.distplot(df_orig['Amount'], kde=True)\n",
    "plt.show()"
   ]
  },
  {
   "cell_type": "code",
   "execution_count": 13,
   "metadata": {},
   "outputs": [
    {
     "data": {
      "text/plain": [
       "<matplotlib.axes._subplots.AxesSubplot at 0x7fa1d74d71d0>"
      ]
     },
     "execution_count": 13,
     "metadata": {},
     "output_type": "execute_result"
    },
    {
     "data": {
      "image/png": "[encoded data removed]",
      "text/plain": [
       "<Figure size 432x288 with 1 Axes>"
      ]
     },
     "metadata": {
      "needs_background": "light"
     },
     "output_type": "display_data"
    }
   ],
   "source": [
    "#df_orig[df_orig['Amount']<=1000]['Amount'].hist()\n",
    "sns.distplot(df_orig[df_orig['Amount']<=1000]['Amount'], kde=True)\n",
    "# # plt.xlim(0, 1000)\n",
    "# # plt.ylim(0, .0005)\n",
    "# plt.show()"
   ]
  },
  {
   "cell_type": "code",
   "execution_count": null,
   "metadata": {},
   "outputs": [],
   "source": []
  },
  {
   "cell_type": "markdown",
   "metadata": {},
   "source": [
    "<img src=\"Images/broke.jpg\" width=\"100\" align=\"Left\"/> \n",
    "<h1>$\\,\\,\\,\\color{blue}{\\textbf{Transaction Amount distribution description}}$</h1>\n",
    "\n",
    "### <p align=\"justify\" style=\"line-height:25px\">As noted above when first describing [transaction amount and time](#Transaction-Amount-and-Time-Descriptive-Statistics) with descriptive statistics - out of all credit card transactions:<br><br>* The mean was shown to be $\\color{red}{\\underline{\\text{88.349619}}}$ USD - set against a median of $\\color{red}{\\underline{\\text{22.0}}}$ USD.<br><br>* The standard deviation was shown to be $\\color{red}{\\underline{\\text{250.120109}}}$ USD.<br><br>* The maximum transaction was shown to be $\\color{red}{\\underline{\\text{25691.16}}}$ USD.<br><br>Skewness is a measure of the asymmetry of the probability distribution of a real-valued random variable about its mean. As a rule of thumb we would normally expect the mean to be to the right of the median when the distribution is right skewed, and to the left of the median when the distribution has left skew. This, alongside a visual inspection of the above figure, clearly shows the distribution of transaction amount has a $\\color{red}{\\underline{\\text{right}}}$ skew, i.e. it is $\\color{red}{\\underline{\\text{right}}}-$ skewed."
   ]
  },
  {
   "cell_type": "code",
   "execution_count": 14,
   "metadata": {},
   "outputs": [
    {
     "name": "stdout",
     "output_type": "stream",
     "text": [
      "count    284807.000000\n",
      "mean         88.349619\n",
      "std         250.120109\n",
      "min           0.000000\n",
      "25%           5.600000\n",
      "50%          22.000000\n",
      "75%          77.165000\n",
      "max       25691.160000\n",
      "Name: Amount, dtype: float64\n",
      "22.0\n"
     ]
    }
   ],
   "source": [
    "print(df_orig['Amount'].describe())\n",
    "print(df_orig['Amount'].median())"
   ]
  },
  {
   "cell_type": "markdown",
   "metadata": {},
   "source": [
    "<img src=\"Images/broke.jpg\" width=\"100\" align=\"Left\"/> \n",
    "<h1>$\\,\\,\\,\\color{blue}{\\textbf{Skewness}}$</h1>\n",
    "\n",
    "### <p align=\"justify\" style=\"line-height:25px\">As an aside, compare the skewness of Transaction Time and Amount to their respective distribution plots:<br><br>The distribution plot of transaction amount showed a highly $\\color{red}{\\underline{\\text{right}}}$ skew.<br><br>The distribution plot of transaction time showed a more complex $\\color{red}{\\underline{\\text{binomial}}}$ distribution and thus (as we've mentioned already) although several summary statistics have been suggested to describe such distributions, there is no presently generally agreed set of statistics that can properly quantify the parameters of a general bimodal distribution.<br><br>1. How can we see this numerically? Find the [skew across columns](https://www.geeksforgeeks.org/python-pandas-dataframe-skew/) and store the skew in a variable called ${\\color{blue}{\\texttt{the}\\_{\\texttt{skew}}}}$.<br><br>2. What other variables show (from the code below) a fair amount of skew? Can you draw further conclusions from the skew of these anonymised variables?<br><br>$\\color{red}{\\textbf{V1, V2,V3, V5, V8, V17, V23, V28, and Class. No since we don't have information of what}}$<br>$\\color{red}{\\textbf{they mean in this context.}}$"
   ]
  },
  {
   "cell_type": "code",
   "execution_count": 15,
   "metadata": {},
   "outputs": [
    {
     "name": "stdout",
     "output_type": "stream",
     "text": [
      "Time      -0.035568\n",
      "V1        -3.280667\n",
      "V2        -4.624866\n",
      "V3        -2.240155\n",
      "V4         0.676292\n",
      "V5        -2.425901\n",
      "V6         1.826581\n",
      "V7         2.553907\n",
      "V8        -8.521944\n",
      "V9         0.554680\n",
      "V10        1.187141\n",
      "V11        0.356506\n",
      "V12       -2.278401\n",
      "V13        0.065233\n",
      "V14       -1.995176\n",
      "V15       -0.308423\n",
      "V16       -1.100966\n",
      "V17       -3.844914\n",
      "V18       -0.259880\n",
      "V19        0.109192\n",
      "V20       -2.037155\n",
      "V21        3.592991\n",
      "V22       -0.213258\n",
      "V23       -5.875140\n",
      "V24       -0.552499\n",
      "V25       -0.415793\n",
      "V26        0.576693\n",
      "V27       -1.170209\n",
      "V28       11.192091\n",
      "Amount    16.977724\n",
      "Class     23.997579\n",
      "dtype: float64\n"
     ]
    }
   ],
   "source": [
    "the_skew = df_orig.skew()\n",
    "print(the_skew)\n"
   ]
  },
  {
   "cell_type": "markdown",
   "metadata": {},
   "source": [
    "<a id=\"barplotfraudvsnormal\"></a>\n",
    "<img src=\"Images/broke.jpg\" width=\"100\" align=\"Left\"/> \n",
    "<h1>$\\,\\,\\,\\color{blue}{\\textbf{Plot Fraudulent vs Non-Fraudulent Transactions}}$</h1>\n",
    "\n",
    "### <br><p align=\"justify\" style=\"line-height:25px\">Produce a visual comparison of the number of fraudulent transactions against the non-fraudulent ones. <br><br>As we noted earlier, one of the challenges of this dataset and this project is the highly unbalanced nature of the data we are using. There are (we would hope) far fewer fraudulent transactions than there are non-fraudulent ones and we can really draw attention to this with a bar chart. Use the variable [$\\color{blue}{\\texttt{counts}}$](#Fraudulent-non-fraudulent-transactions) that you defined in [fraudulent and non-fraudulent transactions](#Fraudulent-non-fraudulent-transactions)."
   ]
  },
  {
   "cell_type": "code",
   "execution_count": 16,
   "metadata": {},
   "outputs": [
    {
     "data": {
      "text/plain": [
       "<matplotlib.axes._subplots.AxesSubplot at 0x7fa1d73e4cc0>"
      ]
     },
     "execution_count": 16,
     "metadata": {},
     "output_type": "execute_result"
    },
    {
     "data": {
      "image/png": "[encoded data removed]",
      "text/plain": [
       "<Figure size 432x288 with 1 Axes>"
      ]
     },
     "metadata": {
      "needs_background": "light"
     },
     "output_type": "display_data"
    }
   ],
   "source": [
    "df_orig['Class'].plot(kind='hist')"
   ]
  },
  {
   "cell_type": "markdown",
   "metadata": {},
   "source": [
    "The bar graph above shows both the amount of times 0 and 1 are present in the Class Series. the bottom bar graph shows a zoomed in version so that the 1's bar is visible."
   ]
  },
  {
   "cell_type": "code",
   "execution_count": 17,
   "metadata": {},
   "outputs": [
    {
     "data": {
      "text/plain": [
       "(0, 1000)"
      ]
     },
     "execution_count": 17,
     "metadata": {},
     "output_type": "execute_result"
    },
    {
     "data": {
      "image/png": "[encoded data removed]",
      "text/plain": [
       "<Figure size 432x288 with 1 Axes>"
      ]
     },
     "metadata": {
      "needs_background": "light"
     },
     "output_type": "display_data"
    }
   ],
   "source": [
    "df_orig['Class'].plot(kind='hist')\n",
    "plt.ylim(0, 1000)"
   ]
  },
  {
   "cell_type": "markdown",
   "metadata": {},
   "source": [
    "<a id=\"corr\"></a>\n",
    "<img src=\"Images/broke.jpg\" width=\"100\" align=\"Left\"/> \n",
    "<h1>$\\,\\,\\,\\color{blue}{\\textbf{Pearson Correlation amongst Columns}}$</h1>\n",
    "\n",
    "### <br><p align=\"justify\" style=\"line-height:25px\">Compute the pairwise correlation of columns, excluding $\\color{blue}{\\texttt{NA}}$ and $\\color{blue}{\\texttt{null}}$ values and store it in a variable called $\\color{blue}{\\texttt{corr}}$.<br><br>The [pandas correlation method](<https://pandas.pydata.org/pandas-docs/stable/reference/api/pandas.DataFrame.corr.html>), $\\color{blue}{\\texttt{corr}}$, defaults to Pearson (i.e., it will calculate the standard pairwise Pearson correlation coefficient), with a minimum number of observations required per pair of columns being $1$ in order to have a valid result."
   ]
  },
  {
   "cell_type": "code",
   "execution_count": 18,
   "metadata": {},
   "outputs": [],
   "source": [
    "corr = df_orig.dropna().corr()\n",
    "\n"
   ]
  },
  {
   "cell_type": "markdown",
   "metadata": {},
   "source": [
    "<img src=\"Images/broke.jpg\" width=\"100\" align=\"Left\"/> \n",
    "<h1>$\\,\\,\\,\\color{blue}{\\textbf{Pearson Correlation Visualization}}$</h1>\n",
    "\n",
    "### <p align=\"justify\" style=\"line-height:25px\">Produce a seaborn heatmap of the correlation between every variable in the dataset.<br><br>Set a $\\color{blue}{\\texttt{mask}}$ attribute such that data will not be plotted in cells where $\\color{blue}{\\texttt{mask}}$ is True:<br><br>1. Create a NumPy array, filled with zeros (which in Python also means False), that has the same shape as the $\\color{blue}{\\texttt{corr}}$ array. Since $\\color{blue}{\\texttt{corr}}$ and $\\color{blue}{\\texttt{mask}}$ have the same shape they will line up item-for-item / like-for-like.<br><br>2. Next, set $\\color{blue}{\\texttt{mask}}$ to True for those indicies that lie in the upper triange ($\\color{blue}{\\texttt{triu}\\_{\\texttt{indices}}\\_{\\texttt{from}}}$) of the matrix of correlation values.<br><br>3. Use seaborn's [heatmap method](<http://seaborn.pydata.org/generated/seaborn.heatmap.html#seaborn.heatmap>) to create a matrix plot of the correlation coefficient for each variable in the dataset compared to every other variable."
   ]
  },
  {
   "cell_type": "code",
   "execution_count": 19,
   "metadata": {},
   "outputs": [
    {
     "data": {
      "text/plain": [
       "<matplotlib.axes._subplots.AxesSubplot at 0x7fa1d728d048>"
      ]
     },
     "execution_count": 19,
     "metadata": {},
     "output_type": "execute_result"
    },
    {
     "data": {
      "image/png": "[encoded data removed]",
      "text/plain": [
       "<Figure size 432x288 with 2 Axes>"
      ]
     },
     "metadata": {
      "needs_background": "light"
     },
     "output_type": "display_data"
    }
   ],
   "source": [
    "mask = np.zeros_like(corr)\n",
    "mask[np.triu_indices_from(mask)] = True\n",
    "mask\n",
    "sns.heatmap(corr, mask=mask)"
   ]
  },
  {
   "cell_type": "markdown",
   "metadata": {},
   "source": [
    "<img src=\"Images/broke.jpg\" width=\"100\" align=\"Left\"/> \n",
    "<h1>$\\,\\,\\,\\color{blue}{\\textbf{Reading the correlation's table and heatmap}}$</h1>\n",
    "\n",
    "### <p align=\"justify\" style=\"line-height:25px\"> Are there any pairs of variables you feel we could look at in more detail? Is there a non-negligible correlation between some variables? Which ones?<br><br>$\\color{red}{\\textbf{Answer}}$<br><br>Create a [seaborn pairplot](<http://seaborn.pydata.org/generated/seaborn.pairplot.html#seaborn.pairplot>) of those variables (against one another, they should indicate the source of these correlations); use $\\color{blue}{\\texttt{hue}}$ to color the figures based on the categorical variable $\\color{blue}{\\texttt{Class}}$ and $\\color{blue}{\\texttt{markers}}$ to show fraudulent and non-fraudulent transactions with different symbols.<br><br> $\\color{red}{\\textbf{The code cell for this task may take some minutes, please be patient}}$."
   ]
  },
  {
   "cell_type": "code",
   "execution_count": 20,
   "metadata": {},
   "outputs": [
    {
     "name": "stdout",
     "output_type": "stream",
     "text": [
      "Hola\n"
     ]
    },
    {
     "data": {
      "image/png": "[encoded data removed]",
      "text/plain": [
       "<Figure size 765.725x720 with 6 Axes>"
      ]
     },
     "metadata": {
      "needs_background": "light"
     },
     "output_type": "display_data"
    }
   ],
   "source": [
    "graph = sns.pairplot(df_orig, hue='Class', vars=['V14', 'V17'], diag_kind='kde', height=5, kind='reg', markers=['o','D'])\n",
    "graph.fig.suptitle('Pairplot', y=1.025, fontsize=18)\n",
    "print('Hola')"
   ]
  },
  {
   "cell_type": "markdown",
   "metadata": {},
   "source": [
    "<img src=\"Images/broke.jpg\" width=\"100\" align=\"Left\"/> \n",
    "<h1>$\\,\\,\\,\\color{blue}{\\textbf{Reading the pairplot}}$</h1>\n",
    "\n",
    "### <p align=\"justify\" style=\"line-height:25px\"> Sure enough we see that for both variables $\\color{red}{\\underline{\\text{V14}}}$ and $\\color{red}{\\underline{\\text{V17}}}$ the correlation against the Transaction $\\color{red}{\\underline{\\text{Class}}}$ variable occurs at values of $\\color{red}{\\underline{\\text{V14}}}$ and $\\color{red}{\\underline{\\text{V17}}}$ equal to $\\color{red}{\\underline{\\text{0}}}$.<br><br> Again, since the data set has been anonymised it is difficult to draw any further conclusions based on this. It may well be, for example, that the outliers in both variables are fraudulent transactions, given that the correlation has been heavily influenced by values typically around zero. We simply have no further evidence to take such a theory any further."
   ]
  },
  {
   "cell_type": "markdown",
   "metadata": {},
   "source": [
    "<img src=\"Images/machinelearning.png\" alt=\"MachineLearning\" style=\"display: auto;margin-left:auto;margin-right: auto;width:150%;\"/>"
   ]
  },
  {
   "cell_type": "markdown",
   "metadata": {},
   "source": [
    "<h1>$\\color{blue}{\\textbf{Preprocessing}}$</h1>"
   ]
  },
  {
   "cell_type": "markdown",
   "metadata": {},
   "source": [
    "<h1>$\\color{blue}{\\textbf{Scale Transaction Amount and Time}}$</h1>\n",
    "\n",
    "<h2>$\\color{blue}{\\textbf{Overview}}$</h2>\n",
    "\n",
    "### <p align=\"justify\" style=\"line-height:25px\">When we seek to link predictor variable(s) to response variable(s) it is crucial to consider the scale of the data sets you intend to use in your chosen machine learning algorithm(s).<br><br> Put simply, with a range of predictor variables (independent variables) it will often be the case that the units, and therefore the scales, over which those predictors are measured (i.e their domain) will be different from one predictor variable to the next. This in turn will effect machine learning performance, stability, and error.<br><br>The problem will be compounded if the output variable(s) (i.e. the response variables) are then used in other processes further downstream. Therefore scaling of the machine learning outputs may also be necessary.\n",
    "    \n",
    "<img src=\"Images/scaling.jpeg\" alt=\"Scale\" style=\"display: auto;margin-left:auto;margin-right: auto;width:40%;\"/>\n",
    "\n",
    "### <p align=\"justify\" style=\"line-height:25px\">Differences in the scales across input predictor variables may actually increase the difficulty of the problem being modelled ([machinelearningmastery](https://machinelearningmastery.com/how-to-improve-neural-network-stability-and-modeling-performance-with-data-scaling/)).<br><br>For example, large input values, ranging over hundreds or thousands of units, can result in a model that learns large weight values.<br><br>In turn, a model with large weight values is often unstable, meaning that it may suffer from poor performance during learning and sensitivity to input values resulting in higher generalization error.<br><br>On the other hand, an output response variable with a large spread of values may result in large error gradient values causing weight values to change dramatically, again making the learning process unstable."
   ]
  },
  {
   "cell_type": "markdown",
   "metadata": {},
   "source": [
    "<h1>$\\color{blue}{\\textbf{Scaling input values}}$</h1>\n",
    "\n",
    "### <p align=\"justify\" style=\"line-height:25px\">Examples of scaling predictor variables include using small values (such as within the range of $0$ to $1$), and variables that are standardized in some way (such as being transformed to have a zero mean and a standard deviation of one).<br><br>Broadly, we seek to scale input features such that they look more or less like standard, normally distributed data i.e. Gaussian with zero mean and variance ([preprocessing](https://scikit-learn.org/stable/modules/preprocessing.html#preprocessing)).<br><br>In practice we often ignore the shape of the distribution and just transform the data to center it by removing the mean value of each feature, then scale it by dividing non-constant features by their standard deviation.\n",
    "\n",
    "### $$\\textbf{Standardization:}\\quad z = \\frac{x-\\mu}{\\sigma}$$"
   ]
  },
  {
   "cell_type": "markdown",
   "metadata": {},
   "source": [
    "<img src=\"Images/broke.jpg\" width=\"100\" align=\"Left\"/> \n",
    "<h1>$\\,\\,\\,\\color{blue}{\\textbf{Scale transaction time}}$</h1>\n",
    "\n",
    "### <p align=\"justify\" style=\"line-height:25px\">The $\\color{blue}{\\texttt{sklearn.preprocessing}}$ module includes scaling, centering, normalization, binarization and imputation methods.<br><br>API: <https://scikit-learn.org/stable/modules/classes.html#module-sklearn.preprocessing><br>Guide: <https://scikit-learn.org/stable/modules/preprocessing.html#preprocessing>\n",
    "\n",
    "### <p align=\"justify\" style=\"line-height:25px\">1. Import the [$\\color{blue}{\\texttt{StandardScaler}}$](https://scikit-learn.org/stable/modules/generated/sklearn.preprocessing.StandardScaler.html#sklearn.preprocessing.StandardScaler) object from scikit-learn's [$\\color{blue}{\\texttt{preprocessing}}$](https://scikit-learn.org/stable/modules/preprocessing.html#preprocessing) module and initialize it into a variable named $\\color{blue}{\\texttt{scaler}}$. The [$\\color{blue}{\\texttt{StandardScaler}}$](https://scikit-learn.org/stable/modules/generated/sklearn.preprocessing.StandardScaler.html#sklearn.preprocessing.StandardScaler) object standardizes features by removing the mean and scaling to unit variance.<br/><br/>2. Scale the transaction time input with the [$\\color{blue}{\\texttt{fit}\\_{\\texttt{transform}}}$](https://scikit-learn.org/stable/modules/generated/sklearn.preprocessing.StandardScaler.html#sklearn.preprocessing.StandardScaler.fit_transform) method  into a variable named $\\color{blue}{\\texttt{scaled}\\_{\\texttt{time}}}$, this will create a 2D NumPy array.<br><br>Note that we use double brackets<a id=\"doublebrackets\"></a> to extract the variable of interest from the original DataFrame - using double square brackets ensures you return a pandas DataFrame as the result (rather than a pandas Series).<br><br>3. Extract individual scaled transaction time entries (of which there are 284807) from the $\\color{blue}{\\texttt{scaled}\\_{\\texttt{time}}}$ 2D array and rebuild them into a new generic Python list variable (again, with length 284807, only this time it will only be 1D):<br><br>$\\quad$a) Convert de NumPy array $\\color{blue}{\\texttt{scaled}\\_{\\texttt{time}}}$ into a generic Python list with the NumPy [$\\color{blue}{\\texttt{to}\\_{\\texttt{list}}}$](https://docs.scipy.org/doc/numpy-1.15.1/reference/generated/numpy.ndarray.tolist.html) attribute.<br><br>$\\quad$b) Nest the above in a [$\\color{blue}{\\texttt{for}\\dots{\\texttt{in}}}$](https://docs.python.org/3/tutorial/controlflow.html#for-statements) construct.<br><br>In this way we can extract each item (that is, each scaled transaction time entry) in turn, creating a $\\color{blue}{\\texttt{sublist}}$, which should be a generic 1D Python list of individual scaled transaction time values.<br><br>$\\quad$c) Iterate through the items of $\\color{blue}{\\texttt{sublist}}$, taking each one individually and building a new generic 1D Python list, <br>$\\quad\\,\\,\\,\\,$ called $\\color{blue}{\\texttt{flat}\\_{\\texttt{list}}}$.<br><br>$\\quad$d) Convert the generic Python list of scaled transaction times into a pandas Series object."
   ]
  },
  {
   "cell_type": "markdown",
   "metadata": {},
   "source": [
    "### \\begin{align*}\n",
    "\\textbf{scaled_time } & \\textbf{ $($a 2D NumPy array$)$} \\\\\n",
    "&\\downarrow \\\\\n",
    "\\textbf{sublist in scaled_time.tolist() } & \\textsf{ $($a 1D Python list$)$} \\\\\n",
    "&\\downarrow \\\\\n",
    "\\textbf{item in sublist } & \\textbf{ $($Python float$)$} \\\\\n",
    "&\\downarrow \\\\\n",
    "\\textbf{flat_list } & \\textbf{ $($a 1D Python list$)$} \\\\\n",
    "&\\downarrow \\\\\n",
    "\\textbf{scaled_time } & \\textbf{ $($pandas Series$)$}\n",
    "\\end{align*}"
   ]
  },
  {
   "cell_type": "code",
   "execution_count": 21,
   "metadata": {},
   "outputs": [],
   "source": [
    "from sklearn import preprocessing\n",
    "scaler = preprocessing.StandardScaler()\n",
    "scaled_time = scaler.fit_transform(df_orig[['Time']])\n",
    "flat_list = []\n",
    "for item in scaled_time.tolist():\n",
    "    flat_list.append(item[0])\n",
    "scaled_time = pd.Series(flat_list, name='scaled_time')"
   ]
  },
  {
   "cell_type": "markdown",
   "metadata": {},
   "source": [
    "<img src=\"Images/broke.jpg\" width=\"100\" align=\"Left\"/> \n",
    "<h1>$\\,\\,\\,\\color{blue}{\\textbf{Scale transaction amount}}$</h1>\n",
    "\n",
    "### <p align=\"justify\" style=\"line-height:25px\">Scale the transaction amount column - pretty much identical to just above, where we scaled the transaction time."
   ]
  },
  {
   "cell_type": "code",
   "execution_count": 22,
   "metadata": {},
   "outputs": [
    {
     "data": {
      "text/plain": [
       "0         0.244964\n",
       "1        -0.342475\n",
       "2         1.160686\n",
       "3         0.140534\n",
       "4        -0.073403\n",
       "5        -0.338556\n",
       "6        -0.333279\n",
       "7        -0.190107\n",
       "8         0.019392\n",
       "9        -0.338516\n",
       "10       -0.322044\n",
       "11       -0.313289\n",
       "12        0.132538\n",
       "13       -0.243282\n",
       "14       -0.118142\n",
       "15       -0.289300\n",
       "16       -0.301294\n",
       "17       -0.349671\n",
       "18       -0.166119\n",
       "19       -0.333239\n",
       "20        0.573167\n",
       "21       -0.216935\n",
       "22       -0.344114\n",
       "23       -0.262273\n",
       "24       -0.349671\n",
       "25       -0.247560\n",
       "26       -0.185790\n",
       "27       -0.289260\n",
       "28       -0.221293\n",
       "29       -0.301294\n",
       "            ...   \n",
       "284777   -0.349231\n",
       "284778   -0.033382\n",
       "284779   -0.253277\n",
       "284780   -0.233287\n",
       "284781   -0.301254\n",
       "284782   -0.301974\n",
       "284783   -0.307411\n",
       "284784   -0.193306\n",
       "284785   -0.346073\n",
       "284786   -0.317447\n",
       "284787   -0.313289\n",
       "284788   -0.337277\n",
       "284789   -0.111345\n",
       "284790   -0.314008\n",
       "284791   -0.271988\n",
       "284792   -0.337277\n",
       "284793   -0.333279\n",
       "284794   -0.349671\n",
       "284795   -0.313768\n",
       "284796   -0.113344\n",
       "284797   -0.331280\n",
       "284798   -0.257075\n",
       "284799   -0.033422\n",
       "284800   -0.342515\n",
       "284801   -0.342475\n",
       "284802   -0.350151\n",
       "284803   -0.254117\n",
       "284804   -0.081839\n",
       "284805   -0.313249\n",
       "284806    0.514355\n",
       "Name: scaled_amount, Length: 284807, dtype: float64"
      ]
     },
     "execution_count": 22,
     "metadata": {},
     "output_type": "execute_result"
    }
   ],
   "source": [
    "amount_scaler = preprocessing.StandardScaler()\n",
    "scaled_amount = amount_scaler.fit_transform(df_orig[['Amount']])\n",
    "flat_list_amount = []\n",
    "for item in scaled_amount.tolist():\n",
    "    flat_list_amount.append(item[0])\n",
    "scaled_amount = pd.Series(flat_list_amount, name='scaled_amount')\n",
    "scaled_amount"
   ]
  },
  {
   "cell_type": "markdown",
   "metadata": {},
   "source": [
    "<a id=\"concatenate\"></a>\n",
    "<img src=\"Images/broke.jpg\" width=\"100\" align=\"Left\"/> \n",
    "<h1>$\\,\\,\\,\\color{blue}{\\textbf{Concatenate scaled inputs}}$</h1>\n",
    "\n",
    "### <p align=\"justify\" style=\"line-height:25px\">Create a new DataFrame named $\\color{blue}{\\texttt{df}\\_{\\texttt{with}}\\_{\\texttt{scaling}}}$ by concatenating the scaled transaction time and amount inputs (as created above) with the original DataFrame.<br><br>Use pandas [$\\color{blue}{\\texttt{concat}}$](https://pandas.pydata.org/pandas-docs/stable/reference/api/pandas.concat.html) to add the named pandas Series ($\\color{blue}{\\texttt{scaled}\\_{\\texttt{amount}}}$ and $\\color{blue}{\\texttt{scaled}\\_{\\texttt{time}}}$) to the original DataFrame that we read in originally ([$\\color{blue}{\\texttt{df}\\_{\\texttt{orig}}}$](#Original-DataFrame)). Specifically requesting $\\color{blue}{\\texttt{axis=1}}$ means we are adding two new columns.<br><br> Get a grasp of what your data looks like now with a sample of size $n=5$."
   ]
  },
  {
   "cell_type": "code",
   "execution_count": 23,
   "metadata": {},
   "outputs": [
    {
     "data": {
      "text/html": [
       "<div>\n",
       "<style scoped>\n",
       "    .dataframe tbody tr th:only-of-type {\n",
       "        vertical-align: middle;\n",
       "    }\n",
       "\n",
       "    .dataframe tbody tr th {\n",
       "        vertical-align: top;\n",
       "    }\n",
       "\n",
       "    .dataframe thead th {\n",
       "        text-align: right;\n",
       "    }\n",
       "</style>\n",
       "<table border=\"1\" class=\"dataframe\">\n",
       "  <thead>\n",
       "    <tr style=\"text-align: right;\">\n",
       "      <th></th>\n",
       "      <th>Time</th>\n",
       "      <th>V1</th>\n",
       "      <th>V2</th>\n",
       "      <th>V3</th>\n",
       "      <th>V4</th>\n",
       "      <th>V5</th>\n",
       "      <th>V6</th>\n",
       "      <th>V7</th>\n",
       "      <th>V8</th>\n",
       "      <th>V9</th>\n",
       "      <th>...</th>\n",
       "      <th>V23</th>\n",
       "      <th>V24</th>\n",
       "      <th>V25</th>\n",
       "      <th>V26</th>\n",
       "      <th>V27</th>\n",
       "      <th>V28</th>\n",
       "      <th>Amount</th>\n",
       "      <th>Class</th>\n",
       "      <th>scaled_amount</th>\n",
       "      <th>scaled_time</th>\n",
       "    </tr>\n",
       "  </thead>\n",
       "  <tbody>\n",
       "    <tr>\n",
       "      <th>15565</th>\n",
       "      <td>26960.0</td>\n",
       "      <td>-1.240284</td>\n",
       "      <td>0.150559</td>\n",
       "      <td>2.166096</td>\n",
       "      <td>-1.828742</td>\n",
       "      <td>-0.949125</td>\n",
       "      <td>0.729370</td>\n",
       "      <td>-0.972622</td>\n",
       "      <td>1.039219</td>\n",
       "      <td>-1.001860</td>\n",
       "      <td>...</td>\n",
       "      <td>-0.290218</td>\n",
       "      <td>-0.253109</td>\n",
       "      <td>0.358536</td>\n",
       "      <td>-0.067644</td>\n",
       "      <td>0.210879</td>\n",
       "      <td>0.036164</td>\n",
       "      <td>10.00</td>\n",
       "      <td>0</td>\n",
       "      <td>-0.313249</td>\n",
       "      <td>-1.428861</td>\n",
       "    </tr>\n",
       "    <tr>\n",
       "      <th>282507</th>\n",
       "      <td>170946.0</td>\n",
       "      <td>-0.087823</td>\n",
       "      <td>1.168998</td>\n",
       "      <td>-0.628601</td>\n",
       "      <td>-0.799653</td>\n",
       "      <td>1.107645</td>\n",
       "      <td>-0.328931</td>\n",
       "      <td>0.855487</td>\n",
       "      <td>0.064348</td>\n",
       "      <td>-0.108815</td>\n",
       "      <td>...</td>\n",
       "      <td>0.044806</td>\n",
       "      <td>0.175717</td>\n",
       "      <td>-0.349856</td>\n",
       "      <td>0.120807</td>\n",
       "      <td>0.324012</td>\n",
       "      <td>0.131753</td>\n",
       "      <td>0.89</td>\n",
       "      <td>0</td>\n",
       "      <td>-0.349671</td>\n",
       "      <td>1.603185</td>\n",
       "    </tr>\n",
       "    <tr>\n",
       "      <th>44129</th>\n",
       "      <td>41807.0</td>\n",
       "      <td>1.101261</td>\n",
       "      <td>-0.584512</td>\n",
       "      <td>0.766545</td>\n",
       "      <td>0.750180</td>\n",
       "      <td>-0.973317</td>\n",
       "      <td>0.136889</td>\n",
       "      <td>-0.711839</td>\n",
       "      <td>0.244446</td>\n",
       "      <td>1.347016</td>\n",
       "      <td>...</td>\n",
       "      <td>-0.106215</td>\n",
       "      <td>-0.482392</td>\n",
       "      <td>0.257933</td>\n",
       "      <td>0.369563</td>\n",
       "      <td>-0.013391</td>\n",
       "      <td>0.025872</td>\n",
       "      <td>79.99</td>\n",
       "      <td>0</td>\n",
       "      <td>-0.033422</td>\n",
       "      <td>-1.116214</td>\n",
       "    </tr>\n",
       "    <tr>\n",
       "      <th>16590</th>\n",
       "      <td>27957.0</td>\n",
       "      <td>1.347183</td>\n",
       "      <td>-0.331674</td>\n",
       "      <td>0.222342</td>\n",
       "      <td>-0.299508</td>\n",
       "      <td>-1.062870</td>\n",
       "      <td>-1.278068</td>\n",
       "      <td>-0.449192</td>\n",
       "      <td>-0.214842</td>\n",
       "      <td>-0.627285</td>\n",
       "      <td>...</td>\n",
       "      <td>0.022295</td>\n",
       "      <td>0.633966</td>\n",
       "      <td>0.424613</td>\n",
       "      <td>-0.321683</td>\n",
       "      <td>0.019847</td>\n",
       "      <td>0.042651</td>\n",
       "      <td>21.45</td>\n",
       "      <td>0</td>\n",
       "      <td>-0.267470</td>\n",
       "      <td>-1.407867</td>\n",
       "    </tr>\n",
       "    <tr>\n",
       "      <th>241598</th>\n",
       "      <td>151091.0</td>\n",
       "      <td>2.169524</td>\n",
       "      <td>-1.915075</td>\n",
       "      <td>-0.477688</td>\n",
       "      <td>-1.816583</td>\n",
       "      <td>-1.493499</td>\n",
       "      <td>0.581284</td>\n",
       "      <td>-1.892142</td>\n",
       "      <td>0.224060</td>\n",
       "      <td>-0.717295</td>\n",
       "      <td>...</td>\n",
       "      <td>0.113378</td>\n",
       "      <td>-1.426104</td>\n",
       "      <td>-0.446348</td>\n",
       "      <td>-0.169736</td>\n",
       "      <td>0.045853</td>\n",
       "      <td>-0.043344</td>\n",
       "      <td>74.95</td>\n",
       "      <td>0</td>\n",
       "      <td>-0.053573</td>\n",
       "      <td>1.185080</td>\n",
       "    </tr>\n",
       "  </tbody>\n",
       "</table>\n",
       "<p>5 rows × 33 columns</p>\n",
       "</div>"
      ],
      "text/plain": [
       "            Time        V1        V2        V3        V4        V5        V6  \\\n",
       "15565    26960.0 -1.240284  0.150559  2.166096 -1.828742 -0.949125  0.729370   \n",
       "282507  170946.0 -0.087823  1.168998 -0.628601 -0.799653  1.107645 -0.328931   \n",
       "44129    41807.0  1.101261 -0.584512  0.766545  0.750180 -0.973317  0.136889   \n",
       "16590    27957.0  1.347183 -0.331674  0.222342 -0.299508 -1.062870 -1.278068   \n",
       "241598  151091.0  2.169524 -1.915075 -0.477688 -1.816583 -1.493499  0.581284   \n",
       "\n",
       "              V7        V8        V9  ...       V23       V24       V25  \\\n",
       "15565  -0.972622  1.039219 -1.001860  ... -0.290218 -0.253109  0.358536   \n",
       "282507  0.855487  0.064348 -0.108815  ...  0.044806  0.175717 -0.349856   \n",
       "44129  -0.711839  0.244446  1.347016  ... -0.106215 -0.482392  0.257933   \n",
       "16590  -0.449192 -0.214842 -0.627285  ...  0.022295  0.633966  0.424613   \n",
       "241598 -1.892142  0.224060 -0.717295  ...  0.113378 -1.426104 -0.446348   \n",
       "\n",
       "             V26       V27       V28  Amount  Class  scaled_amount  \\\n",
       "15565  -0.067644  0.210879  0.036164   10.00      0      -0.313249   \n",
       "282507  0.120807  0.324012  0.131753    0.89      0      -0.349671   \n",
       "44129   0.369563 -0.013391  0.025872   79.99      0      -0.033422   \n",
       "16590  -0.321683  0.019847  0.042651   21.45      0      -0.267470   \n",
       "241598 -0.169736  0.045853 -0.043344   74.95      0      -0.053573   \n",
       "\n",
       "        scaled_time  \n",
       "15565     -1.428861  \n",
       "282507     1.603185  \n",
       "44129     -1.116214  \n",
       "16590     -1.407867  \n",
       "241598     1.185080  \n",
       "\n",
       "[5 rows x 33 columns]"
      ]
     },
     "execution_count": 23,
     "metadata": {},
     "output_type": "execute_result"
    }
   ],
   "source": [
    "df_with_scaling = pd.concat([df_orig, scaled_amount, scaled_time], axis=1)\n",
    "df_with_scaling.sample(5)"
   ]
  },
  {
   "cell_type": "markdown",
   "metadata": {},
   "source": [
    "<img src=\"Images/broke.jpg\" width=\"100\" align=\"Left\"/> \n",
    "<h1>$\\,\\,\\,\\color{blue}{\\textbf{Drop non-scaled inputs from original DataFrame}}$</h1>\n",
    "\n",
    "### <p align=\"justify\" style=\"line-height:25px\">Remove the original, non-scaled transaction time and amount columns from the new DataFrame you have just created ($\\color{blue}{\\texttt{df}\\_{\\texttt{with}}\\_{\\texttt{scaling}}}$). In doing so, save the result to yet another new DataFrame named $\\color{blue}{\\texttt{df}\\_{\\texttt{scaled}}}$.<br><br>Use the [$\\color{blue}{\\texttt{drop}}$](https://pandas.pydata.org/pandas-docs/stable/reference/api/pandas.DataFrame.drop.html) attribute of the pandas DataFrame $\\color{blue}{\\texttt{df}\\_{\\texttt{with}}\\_{\\texttt{scaling}}}$ to remove the two original columns of Transaction Amount and Time.<br><br> Overall, we will be left with a brand new pandas DataFrame, named $\\color{blue}{\\texttt{df}\\_{\\texttt{scaled}}}$ that contains all the original variables - except for Transaction Time and Amount, which have been replaced by their scaled originals.<br><br> Get a grasp of what your data looks like now with a sample of size $n=5$. "
   ]
  },
  {
   "cell_type": "code",
   "execution_count": 24,
   "metadata": {},
   "outputs": [
    {
     "data": {
      "text/html": [
       "<div>\n",
       "<style scoped>\n",
       "    .dataframe tbody tr th:only-of-type {\n",
       "        vertical-align: middle;\n",
       "    }\n",
       "\n",
       "    .dataframe tbody tr th {\n",
       "        vertical-align: top;\n",
       "    }\n",
       "\n",
       "    .dataframe thead th {\n",
       "        text-align: right;\n",
       "    }\n",
       "</style>\n",
       "<table border=\"1\" class=\"dataframe\">\n",
       "  <thead>\n",
       "    <tr style=\"text-align: right;\">\n",
       "      <th></th>\n",
       "      <th>V1</th>\n",
       "      <th>V2</th>\n",
       "      <th>V3</th>\n",
       "      <th>V4</th>\n",
       "      <th>V5</th>\n",
       "      <th>V6</th>\n",
       "      <th>V7</th>\n",
       "      <th>V8</th>\n",
       "      <th>V9</th>\n",
       "      <th>V10</th>\n",
       "      <th>...</th>\n",
       "      <th>V22</th>\n",
       "      <th>V23</th>\n",
       "      <th>V24</th>\n",
       "      <th>V25</th>\n",
       "      <th>V26</th>\n",
       "      <th>V27</th>\n",
       "      <th>V28</th>\n",
       "      <th>Class</th>\n",
       "      <th>scaled_amount</th>\n",
       "      <th>scaled_time</th>\n",
       "    </tr>\n",
       "  </thead>\n",
       "  <tbody>\n",
       "    <tr>\n",
       "      <th>54508</th>\n",
       "      <td>-0.306384</td>\n",
       "      <td>1.489607</td>\n",
       "      <td>-0.628765</td>\n",
       "      <td>-0.409182</td>\n",
       "      <td>0.472268</td>\n",
       "      <td>-1.057344</td>\n",
       "      <td>0.439462</td>\n",
       "      <td>0.306691</td>\n",
       "      <td>-0.285484</td>\n",
       "      <td>-1.606614</td>\n",
       "      <td>...</td>\n",
       "      <td>-0.487368</td>\n",
       "      <td>-0.066752</td>\n",
       "      <td>-0.615540</td>\n",
       "      <td>-0.005964</td>\n",
       "      <td>0.416540</td>\n",
       "      <td>0.054378</td>\n",
       "      <td>-0.033356</td>\n",
       "      <td>0</td>\n",
       "      <td>-0.297656</td>\n",
       "      <td>-1.017705</td>\n",
       "    </tr>\n",
       "    <tr>\n",
       "      <th>83161</th>\n",
       "      <td>-2.128960</td>\n",
       "      <td>1.600895</td>\n",
       "      <td>1.454154</td>\n",
       "      <td>2.249017</td>\n",
       "      <td>0.768673</td>\n",
       "      <td>1.655047</td>\n",
       "      <td>-7.765043</td>\n",
       "      <td>-9.875316</td>\n",
       "      <td>-0.812872</td>\n",
       "      <td>-1.555008</td>\n",
       "      <td>...</td>\n",
       "      <td>1.004489</td>\n",
       "      <td>-3.302237</td>\n",
       "      <td>0.185651</td>\n",
       "      <td>-0.115949</td>\n",
       "      <td>-0.189455</td>\n",
       "      <td>0.209494</td>\n",
       "      <td>0.423545</td>\n",
       "      <td>0</td>\n",
       "      <td>-0.349231</td>\n",
       "      <td>-0.739109</td>\n",
       "    </tr>\n",
       "    <tr>\n",
       "      <th>18928</th>\n",
       "      <td>1.472433</td>\n",
       "      <td>-0.933125</td>\n",
       "      <td>0.721166</td>\n",
       "      <td>-1.418353</td>\n",
       "      <td>-1.629346</td>\n",
       "      <td>-0.793324</td>\n",
       "      <td>-1.051318</td>\n",
       "      <td>-0.088932</td>\n",
       "      <td>-2.134612</td>\n",
       "      <td>1.584092</td>\n",
       "      <td>...</td>\n",
       "      <td>-0.798171</td>\n",
       "      <td>0.232671</td>\n",
       "      <td>0.471270</td>\n",
       "      <td>0.071631</td>\n",
       "      <td>-0.509554</td>\n",
       "      <td>0.035277</td>\n",
       "      <td>0.018688</td>\n",
       "      <td>0</td>\n",
       "      <td>-0.341435</td>\n",
       "      <td>-1.367520</td>\n",
       "    </tr>\n",
       "    <tr>\n",
       "      <th>267277</th>\n",
       "      <td>1.757983</td>\n",
       "      <td>-0.357757</td>\n",
       "      <td>-1.861256</td>\n",
       "      <td>0.173891</td>\n",
       "      <td>1.004677</td>\n",
       "      <td>1.280296</td>\n",
       "      <td>-0.301775</td>\n",
       "      <td>0.418719</td>\n",
       "      <td>0.406258</td>\n",
       "      <td>-0.462662</td>\n",
       "      <td>...</td>\n",
       "      <td>0.221551</td>\n",
       "      <td>0.183097</td>\n",
       "      <td>-0.797495</td>\n",
       "      <td>-0.386397</td>\n",
       "      <td>0.504625</td>\n",
       "      <td>-0.011771</td>\n",
       "      <td>-0.036872</td>\n",
       "      <td>0</td>\n",
       "      <td>-0.052174</td>\n",
       "      <td>1.429562</td>\n",
       "    </tr>\n",
       "    <tr>\n",
       "      <th>108294</th>\n",
       "      <td>0.642678</td>\n",
       "      <td>-1.433899</td>\n",
       "      <td>1.715171</td>\n",
       "      <td>1.076767</td>\n",
       "      <td>-1.583064</td>\n",
       "      <td>1.783198</td>\n",
       "      <td>-1.451997</td>\n",
       "      <td>0.823565</td>\n",
       "      <td>1.934986</td>\n",
       "      <td>-0.463434</td>\n",
       "      <td>...</td>\n",
       "      <td>0.806284</td>\n",
       "      <td>-0.208788</td>\n",
       "      <td>-0.211108</td>\n",
       "      <td>0.113026</td>\n",
       "      <td>0.744971</td>\n",
       "      <td>0.047299</td>\n",
       "      <td>0.039234</td>\n",
       "      <td>0</td>\n",
       "      <td>0.382418</td>\n",
       "      <td>-0.504840</td>\n",
       "    </tr>\n",
       "  </tbody>\n",
       "</table>\n",
       "<p>5 rows × 31 columns</p>\n",
       "</div>"
      ],
      "text/plain": [
       "              V1        V2        V3        V4        V5        V6        V7  \\\n",
       "54508  -0.306384  1.489607 -0.628765 -0.409182  0.472268 -1.057344  0.439462   \n",
       "83161  -2.128960  1.600895  1.454154  2.249017  0.768673  1.655047 -7.765043   \n",
       "18928   1.472433 -0.933125  0.721166 -1.418353 -1.629346 -0.793324 -1.051318   \n",
       "267277  1.757983 -0.357757 -1.861256  0.173891  1.004677  1.280296 -0.301775   \n",
       "108294  0.642678 -1.433899  1.715171  1.076767 -1.583064  1.783198 -1.451997   \n",
       "\n",
       "              V8        V9       V10  ...       V22       V23       V24  \\\n",
       "54508   0.306691 -0.285484 -1.606614  ... -0.487368 -0.066752 -0.615540   \n",
       "83161  -9.875316 -0.812872 -1.555008  ...  1.004489 -3.302237  0.185651   \n",
       "18928  -0.088932 -2.134612  1.584092  ... -0.798171  0.232671  0.471270   \n",
       "267277  0.418719  0.406258 -0.462662  ...  0.221551  0.183097 -0.797495   \n",
       "108294  0.823565  1.934986 -0.463434  ...  0.806284 -0.208788 -0.211108   \n",
       "\n",
       "             V25       V26       V27       V28  Class  scaled_amount  \\\n",
       "54508  -0.005964  0.416540  0.054378 -0.033356      0      -0.297656   \n",
       "83161  -0.115949 -0.189455  0.209494  0.423545      0      -0.349231   \n",
       "18928   0.071631 -0.509554  0.035277  0.018688      0      -0.341435   \n",
       "267277 -0.386397  0.504625 -0.011771 -0.036872      0      -0.052174   \n",
       "108294  0.113026  0.744971  0.047299  0.039234      0       0.382418   \n",
       "\n",
       "        scaled_time  \n",
       "54508     -1.017705  \n",
       "83161     -0.739109  \n",
       "18928     -1.367520  \n",
       "267277     1.429562  \n",
       "108294    -0.504840  \n",
       "\n",
       "[5 rows x 31 columns]"
      ]
     },
     "execution_count": 24,
     "metadata": {},
     "output_type": "execute_result"
    }
   ],
   "source": [
    "df_scaled = df_with_scaling.drop(columns=['Amount', 'Time'])\n",
    "df_scaled.sample(5)"
   ]
  },
  {
   "cell_type": "markdown",
   "metadata": {},
   "source": [
    "<h1>$\\color{blue}{\\textbf{Training and Testing sets}}$</h1>\n",
    "\n",
    "<h2>$\\color{blue}{\\textbf{Overview}}$</h2>\n",
    "\n",
    "### <p align=\"justify\" style=\"line-height:25px\">A training set is used to build and validate a learning model, while a testing set is reserved for testing the model on unseen data. The testing set must be large enough to yield statistically meaningful results and must be representative of the dataset as a whole.</p>\n",
    "\n",
    "<img src=\"Images/traintest.png\" alt=\"TrainTest\" style=\"display: auto;margin-left:auto;margin-right: auto;width:80%;\"/>\n",
    "\n",
    "### <p align=\"justify\" style=\"line-height:25px\">The goal is to create a model that generalizes well to new data. The testing set serves in place of new data."
   ]
  },
  {
   "cell_type": "markdown",
   "metadata": {},
   "source": [
    "<img src=\"Images/broke.jpg\" width=\"100\" align=\"Left\"/> \n",
    "<h1>$\\,\\,\\,\\color{blue}{\\textbf{Split data into \"train\" and \"test\" sets}}$</h1>\n",
    "\n",
    "### <p align=\"justify\" style=\"line-height:25px\">Produce a 1D NumPy array, named $\\color{blue}{\\texttt{mask}}$, randomly filled with values that are either Boolean $\\color{blue}{\\texttt{True}}$ or $\\color{blue}{\\texttt{False}}$, whose size is equal to the number of data points (observations) in our dataset:<br><br>1. Create a NumPy array named $\\color{blue}{\\texttt{mask}}$ of the required shape and populate it with [random samples](https://docs.scipy.org/doc/numpy-1.15.1/reference/generated/numpy.random.rand.html) from a uniform distribution over $[0,1)$, but overrule the limit of less than $1$ by applying a new limit of less than $0.9$. In doing so we are effectively applying an $\\color{blue}{\\texttt{IF}}$ condition that states:<br><br><center>If an item is less than $0.9$, it is True $\\dots$ and if it is $0.9$ or above, it is False.</center><br><p align=\"justify\" style=\"line-height:25px\">2. Use this $\\color{blue}{\\texttt{mask}}$ of randomly chosen $\\color{blue}{\\texttt{True}}$ and $\\color{blue}{\\texttt{False}}$ values and apply this to the DataFrame of scaled data ($\\color{blue}{\\texttt{df}\\_{\\texttt{scaled}}}$) to create two new pandas DataFrames (name them $\\color{blue}{\\texttt{train}}$ and $\\color{blue}{\\texttt{test}}$ for $\\color{blue}{\\texttt{True}}$ and $\\color{blue}{\\texttt{False}}$, respectively) containing all columns from the original dataset.<br><br> By virtue of how $\\color{blue}{\\texttt{mask}}$ is created, $\\color{blue}{\\texttt{train}}$ will contain approximately $90\\%$ of the original dataset observations, and $\\color{blue}{\\texttt{test}}$ the approximately $10\\%$ that remain. And the observations in each will have been randomly chosen.<br><br> 3. Print the shape of the training and testing sets and the percentage of observations in each of these sets."
   ]
  },
  {
   "cell_type": "code",
   "execution_count": 25,
   "metadata": {},
   "outputs": [
    {
     "name": "stdout",
     "output_type": "stream",
     "text": [
      "Size of train: 256111 89.9244049479121\n",
      "Size of test: 28696 10.075595052087905\n"
     ]
    }
   ],
   "source": [
    "mask = np.random.rand(df_scaled.shape[0], 1)\n",
    "for i in range(df_scaled.shape[0]):\n",
    "    if mask[i,0] < 0.9:\n",
    "        mask[i,0] = True\n",
    "    else:\n",
    "        mask[i,0] = False\n",
    "flat_list = []\n",
    "for item in mask:\n",
    "    flat_list.append(item[0])\n",
    "true_false = pd.Series(flat_list, name='True_False')\n",
    "df_scaled_true_false = pd.concat([df_scaled, true_false], axis=1)\n",
    "train = df_scaled_true_false[df_scaled_true_false['True_False']==1].drop(columns=['True_False'])\n",
    "test = df_scaled_true_false[df_scaled_true_false['True_False']==0].drop(columns=['True_False'])\n",
    "total_size = train.shape[0] + test.shape[0]\n",
    "print('Size of train: ' + str(train.shape[0]) + \" \" + str(train.shape[0]/total_size*100))\n",
    "print('Size of test: ' + str(test.shape[0]) + \" \" + str(test.shape[0]/total_size*100))"
   ]
  },
  {
   "cell_type": "markdown",
   "metadata": {},
   "source": [
    "<a id=\"reset\"></a>\n",
    "<img src=\"Images/broke.jpg\" width=\"100\" align=\"Left\"/> \n",
    "<h1>$\\,\\,\\,\\color{blue}{\\textbf{Reset train and test DataFrame indexes}}$</h1>\n",
    "\n",
    "### <br><p align=\"justify\" style=\"line-height:25px\"> Before moving forward, [reset the index](https://pandas.pydata.org/pandas-docs/stable/reference/api/pandas.DataFrame.reset_index.html) of the $\\color{blue}{\\texttt{train}}$ and $\\color{blue}{\\texttt{test}}$ DataFrames, but with the attribute $\\color{blue}{\\texttt{drop}}$ set to $\\color{blue}{\\texttt{True}}$ so that we don't allow the old index to be added as a new column.<br><br>Likewise, the change is made $\\color{blue}{\\texttt{inplace}}$, so that the DataFrames $\\color{blue}{\\texttt{train}}$ and $\\color{blue}{\\texttt{test}}$ end up with new indexes, that count from $0$ up to the number of rows present."
   ]
  },
  {
   "cell_type": "code",
   "execution_count": 26,
   "metadata": {},
   "outputs": [],
   "source": [
    "# Code. \n"
   ]
  },
  {
   "cell_type": "markdown",
   "metadata": {},
   "source": [
    "<h1>$\\color{blue}{\\textbf{Resampling}}$</h1>\n",
    "\n",
    "<h2>$\\color{blue}{\\textbf{Overview}}$</h2>\n",
    "\n",
    "### <p align=\"justify\" style=\"line-height:25px\"> We are dealing with a highly unbalanced dataset in this project. There is a disproportionate ratio of observations between the $\\color{blue}{\\texttt{Fraudulent}}$ and $\\color{blue}{\\texttt{Non-fraudulent}}$ classes and this is a big issue in machine learning classification; it can result in a serious bias towards the $\\color{blue}{\\texttt{Non-fraudulent}}$ class, reducing the classification performance and increasing the number of false negatives.\n",
    "    \n",
    "<img src=\"Images/imbalanced.jpeg\" alt=\"Imbalance\" style=\"display: auto;margin-left:auto;margin-right: auto;width:50%;\"/>\n",
    "    \n",
    "### <p align=\"justify\" style=\"line-height:25px\">Most machine learning algorithms are designed to maximize accuracy and reduce error; therefore, they work best when the training and testing sets have the same number of samples. The most common techniques to deal with this issue are undersampling the majority class, oversampling the minority class or a mix of both. \n",
    "    \n",
    "<img src=\"Images/resampling.png\" alt=\"resampling\" style=\"display: auto;margin-left:auto;margin-right: auto;width:70%;\"/>"
   ]
  },
  {
   "cell_type": "markdown",
   "metadata": {},
   "source": [
    "<h1>$\\color{blue}{\\textbf{Undersampling}}$</h1>"
   ]
  },
  {
   "cell_type": "markdown",
   "metadata": {},
   "source": [
    "<img src=\"Images/broke.jpg\" width=\"100\" align=\"Left\"/> \n",
    "<h1>$\\,\\,\\,\\color{blue}{\\textbf{Undersampling non-fraudulent transactions}}$</h1>\n",
    "\n",
    "### <p align=\"justify\" style=\"line-height:25px\">Create a subsample with balanced class distributions.<br><br>1. How many random samples from normal transactions do we need? Count the number of fraudulent transactions in the train data and save it in a variable named $\\color{blue}{\\texttt{no}\\_{\\texttt{of}}\\_{\\texttt{frauds}}}$. $\\color{red}{\\textbf{Hint:}}$ You have counted fraudulent and non-fraudeulent transactions [before](#Fraudulent-non-fraudulent-transactions).<br><br>2. Randomly select $\\color{blue}{\\texttt{no}\\_{\\texttt{of}}\\_{\\texttt{frauds}}}$ non-fraudulent transactions from the train data.<br><br>$\\quad$a) Extract the non-fraudulent and fraudulent transactions from the training set and save<br>$\\quad\\,\\,\\,\\,\\,\\,$them to new DataFrames named $\\color{blue}{\\texttt{non}\\_{\\texttt{fraud}}}$ and $\\color{blue}{\\texttt{fraud}}$, respectively.<br>$\\quad$b) Sample $\\color{blue}{\\texttt{no}\\_{\\texttt{of}}\\_{\\texttt{frauds}}}$ non-fraudulent transactions from the $\\color{blue}{\\texttt{non}\\_{\\texttt{fraud}}}$ DataFrame<br>$\\quad\\,\\,\\,\\,\\,\\,$and save this sample into a new DataFrame named $\\color{blue}{\\texttt{selected}}$.<br><br>3. Concatenate the $\\color{blue}{\\texttt{selected}}$ and $\\color{blue}{\\texttt{fraud}}$ DataFrames into a subsample dataset with equal<br>$\\,\\,\\,\\,$class distribution.<br><br>$\\quad$a) [Reset the index](#reset) of the $\\color{blue}{\\texttt{selected}}$ and $\\color{blue}{\\texttt{fraud}}$ DataFrames.<br>$\\quad$b) [Concatenate](#concatenate) both DatFrames into a subsample dataset named $\\color{blue}{\\texttt{subsample}}$.<br><br>4. Shuffle the $\\color{blue}{\\texttt{subsample}}$ dataset (pretty much like shuffling cards) by using the <br>$\\,\\,\\,\\,$ [sample method](https://pandas.pydata.org/pandas-docs/stable/reference/api/pandas.DataFrame.sample.html) from pandas and \"chain\" an [index reset](#reset).\n",
    "    \n",
    "<img src=\"Images/shuffle.jpg\" alt=\"shuffling\" style=\"display: auto;margin-left:auto;margin-right: auto;width:30%;\"/>"
   ]
  },
  {
   "cell_type": "code",
   "execution_count": 27,
   "metadata": {},
   "outputs": [],
   "source": [
    "# Code.\n"
   ]
  },
  {
   "cell_type": "code",
   "execution_count": 28,
   "metadata": {},
   "outputs": [],
   "source": [
    "# Code. \n"
   ]
  },
  {
   "cell_type": "code",
   "execution_count": 29,
   "metadata": {},
   "outputs": [],
   "source": [
    "# Code.\n"
   ]
  },
  {
   "cell_type": "code",
   "execution_count": 30,
   "metadata": {},
   "outputs": [],
   "source": [
    "# Code. \n"
   ]
  },
  {
   "cell_type": "markdown",
   "metadata": {},
   "source": [
    "<img src=\"Images/broke.jpg\" width=\"100\" align=\"Left\"/> \n",
    "<h1>$\\,\\,\\,\\color{blue}{\\textbf{Plot Fraudulent vs Non-Fraudulent Transactions}}$</h1>\n",
    "\n",
    "### <p align=\"justify\" style=\"line-height:25px\">Produce a visual comparison of the number of fraudulent transactions against the non-fraudulent ones.<br><br> There are (we would hope) the same number of fraudulent and non-fraudulent transactions and we can really draw attention to this with a bar chart, like the one you created [above](#barplotfraudvsnormal). First you will have to define a new variable $\\color{blue}{\\texttt{new}\\_{\\texttt{counts}}}$ ([see how you did it before](#Fraudulent-non-fraudulent-transactions))."
   ]
  },
  {
   "cell_type": "code",
   "execution_count": 31,
   "metadata": {},
   "outputs": [],
   "source": [
    "# Code.\n"
   ]
  },
  {
   "cell_type": "markdown",
   "metadata": {},
   "source": [
    "<img src=\"Images/broke.jpg\" width=\"100\" align=\"Left\"/> \n",
    "<h1>$\\,\\,\\,\\color{blue}{\\textbf{Correlations between Class and the anonymised variables}}$</h1>\n",
    "\n",
    "### <p align=\"justify\" style=\"line-height:25px\">1. Take a look at [correlations once more](#corr), but now in the $\\color{blue}{\\texttt{subsample}}$ dataset. After that, extract the column $\\color{blue}{\\texttt{Class}}$ in a DataFrame named $\\color{blue}{\\texttt{corr}}$ in order to focus only on the correlations between the $\\color{blue}{\\texttt{Class}}$ and the variables V1, V2, $\\dots$<br><br>2. From this DataFrame, extract all variables Vi with negative correlations smaller than $-0.5$.<br><br>3. Now extract all variables Vi with positive correlations greater than $0.5$. "
   ]
  },
  {
   "cell_type": "code",
   "execution_count": 32,
   "metadata": {},
   "outputs": [],
   "source": [
    "# Code.\n"
   ]
  },
  {
   "cell_type": "code",
   "execution_count": 33,
   "metadata": {},
   "outputs": [],
   "source": [
    "# Code.\n"
   ]
  },
  {
   "cell_type": "code",
   "execution_count": 34,
   "metadata": {},
   "outputs": [],
   "source": [
    "# Code. \n"
   ]
  },
  {
   "cell_type": "markdown",
   "metadata": {},
   "source": [
    "<img src=\"Images/broke.jpg\" width=\"100\" align=\"Left\"/> \n",
    "<h1>$\\,\\,\\,\\color{blue}{\\textbf{Visualizing features with high negative correlation}}$</h1>\n",
    "\n",
    "### <p align=\"justify\" style=\"line-height:25px\"> Produce a $m\\times n$ grid of boxplots for the variables with high negative correlation, spliting the $x-$axis into fraudulent and non-fraudulent transactions. Do the same for the variables with high positive correlation."
   ]
  },
  {
   "cell_type": "code",
   "execution_count": 35,
   "metadata": {},
   "outputs": [],
   "source": [
    "# Code. \n"
   ]
  },
  {
   "cell_type": "code",
   "execution_count": 36,
   "metadata": {},
   "outputs": [],
   "source": [
    "# Code. \n",
    "\n"
   ]
  },
  {
   "cell_type": "markdown",
   "metadata": {},
   "source": [
    "<img src=\"Images/broke.jpg\" width=\"100\" align=\"Left\"/> \n",
    "<h1>$\\,\\,\\,\\color{blue}{\\textbf{Reading the boxplots}}$</h1>\n",
    "\n",
    "### <p align=\"justify\" style=\"line-height:25px\">Compare the medians of fraudulent and non-fraudulent transactions from the above boxplots. What can you observe? Does this show that fraudulent transactions contribute more to the negative/positive correlation?<br><br>$\\color{red}{\\textbf{Answer}}$"
   ]
  },
  {
   "cell_type": "markdown",
   "metadata": {},
   "source": [
    "<img src=\"Images/broke.jpg\" width=\"100\" align=\"Left\"/> \n",
    "<h1>$\\,\\,\\,\\color{blue}{\\textbf{Remove extreme outliers}}$</h1>\n",
    "\n",
    "### <p align=\"justify\" style=\"line-height:25px\">Sure enough we can see several anomalies (outliers) from the boxplots above. Remove the [extreme outliers](https://www.itl.nist.gov/div898/handbook/prc/section1/prc16.htm) from the $\\color{blue}{\\texttt{subsample}}$ dataset.<br><br>1. Define the first and third quartile as $\\color{blue}{\\texttt{Q1}}$ and $\\color{blue}{\\texttt{Q3}}$, respectively, using the [pandas function quantile](https://www.geeksforgeeks.org/python-pandas-dataframe-quantile/).<br><br>2. Define the interquartile range as $\\color{blue}{\\texttt{IQR}}$.<br><br>3. Remove extreme outliers ($x<(Q1-3 IQR)$ or $x<(Q1-3 IQR)$) from the $\\color{blue}{\\texttt{subsample}}$ dataset using the [numpy function any](https://docs.scipy.org/doc/numpy-1.15.0/reference/generated/numpy.any.html) and save this new DataFrame under the name $\\color{blue}{\\texttt{df}\\_{\\texttt{out}}}$."
   ]
  },
  {
   "cell_type": "code",
   "execution_count": 37,
   "metadata": {},
   "outputs": [],
   "source": [
    "# Code.\n"
   ]
  },
  {
   "cell_type": "markdown",
   "metadata": {},
   "source": [
    "<h1>$\\color{blue}{\\textbf{t-Distributed Stochastic Neighbor Embedding}}$</h1>\n",
    "\n",
    "<h2>$\\color{blue}{\\textbf{Overview}}$</h2>\n",
    "\n",
    "### <p align=\"justify\" style=\"line-height:25px\">[t-Distributed Stochastic Neighbor Embedding (t-SNE)](http://www.jmlr.org/papers/volume9/vandermaaten08a/vandermaaten08a.pdf) is a technique for dimensionality reduction that is well suited for the visualization of high-dimensional datasets. The aim of dimensionality reduction is to preserve as much of the significant structure of the high-dimensional data as possible in the low-dimensional map.\n",
    "    \n",
    "<img src=\"Images/tsne.png\" alt=\"tsne\" style=\"display: auto;margin-left:auto;margin-right: auto;width:30%;\"/>\n",
    "    \n",
    "### <p align=\"justify\" style=\"line-height:25px\">t-SNE is capable of capturing much of the local structure of the high-dimensional data very well, while also revealing global structure such as the presence of clusters at several scales. It uses a Student-t distribution to compute the similarity between two points in the high-dimensional space and in the low-dimensional space. It then tries to optimize these two similarity measures using a cost function.<br><br> You can find many interesting [examples of the use of t-SNE here](https://lvdmaaten.github.io/tsne/).\n",
    "\n"
   ]
  },
  {
   "cell_type": "markdown",
   "metadata": {},
   "source": [
    "<img src=\"Images/broke.jpg\" width=\"100\" align=\"Left\"/> \n",
    "<h1>$\\,\\,\\,\\color{blue}{\\textbf{Applying t-SNE}}$</h1>\n",
    "\n",
    "### <p align=\"justify\" style=\"line-height:25px\">Let us apply t-SNE to visualise the high-dimensional dataset $\\color{blue}{\\texttt{df}\\_{\\texttt{out}}}$.<br><br>1. Import the [TSNE](https://scikit-learn.org/stable/modules/manifold.html#t-sne) object from scikit-learn's [manifold](https://scikit-learn.org/stable/modules/generated/sklearn.manifold.TSNE.html) module and split the $\\color{blue}{\\texttt{df}\\_{\\texttt{out}}}$ DataFrame in two:<br><br>$\\quad$a) Save the $\\color{blue}{\\texttt{Class}}$ column in a pandas Series named $\\color{blue}{\\texttt{y}}$, the dependent variable (now we use single brackets,<br>$\\quad\\,\\,\\,\\,$ [not double like before](#doublebrackets), we are going to use this in the next code cell).<br>$\\quad$b) Save the rest of the variables in a DataFrame named $\\color{blue}{\\texttt{X}}$, the independent variables (just [drop](https://pandas.pydata.org/pandas-docs/stable/reference/api/pandas.DataFrame.drop.html) the $\\color{blue}{\\texttt{Class}}$<br>$\\quad\\,\\,\\,\\,$ column).<br><br>2. Run [TSNE](https://scikit-learn.org/stable/modules/manifold.html#t-sne) with two components and setting a [random_state](https://scikit-learn.org/stable/modules/generated/sklearn.manifold.TSNE.html) of $42$.<a id=\"randstate\"></a> In machine learning, we want to replicate our steps exactly same as performed before, to analyse the results. Hence $\\color{blue}{\\texttt{random}\\_{\\texttt{state}}}$ is fixed to some integer. Then \"chain\" the [sklearn fit_transform method](https://scikit-learn.org/stable/modules/generated/sklearn.manifold.TSNE.html#sklearn.manifold.TSNE.fit_transform) to fit the [values](https://pandas.pydata.org/pandas-docs/stable/reference/api/pandas.DataFrame.values.html) of $\\color{blue}{\\texttt{X}}$ into a two-dimensional space and return that transformed output. Save it in a variable named $\\color{blue}{\\texttt{X}\\_{\\texttt{reduced}}\\_{\\texttt{tsne}}}$."
   ]
  },
  {
   "cell_type": "code",
   "execution_count": 38,
   "metadata": {},
   "outputs": [],
   "source": [
    "# Code.\n"
   ]
  },
  {
   "cell_type": "markdown",
   "metadata": {},
   "source": [
    "<img src=\"Images/broke.jpg\" width=\"100\" align=\"Left\"/> \n",
    "<h1>$\\,\\,\\,\\color{blue}{\\textbf{t-SNE Scatter Plot}}$</h1>\n",
    "\n",
    "### <p align=\"justify\" style=\"line-height:25px\">Create the two-dimensional t-SNE scatter plot and color each transaction by its respective $\\color{blue}{\\texttt{Class}}$ label. We expect fraudulent and non-fraudulent transactions to be very clearly clustered in their own sub groups.<br><br>1. First we will create some color patches, so import patches from matplotlib as mpatches and Create a 'Figure' object and a single 'axes.Axes' object.<br><br>2. Create a blue patch for non-fraudulent transactions and a red patch for the fraudulent transactions using the [Patch method](https://matplotlib.org/3.1.1/api/_as_gen/matplotlib.patches.Patch.html#matplotlib.patches.Patch). Save the variables as $\\color{blue}{\\texttt{blue}\\_{\\texttt{patch}}}$ and $\\color{blue}{\\texttt{red}\\_{\\texttt{patch}}}$, respectively.<br><br>3. Create a [scatter plot](https://matplotlib.org/3.1.1/api/_as_gen/matplotlib.axes.Axes.scatter.html) of the two components of $\\color{blue}{\\texttt{X}\\_{\\texttt{reduced}}\\_{\\texttt{tsne}}}$ and color them using the pandas Series $\\color{blue}{\\texttt{y}}$ that you defined in the cell above."
   ]
  },
  {
   "cell_type": "code",
   "execution_count": 39,
   "metadata": {},
   "outputs": [],
   "source": [
    "# Code. \n"
   ]
  },
  {
   "cell_type": "markdown",
   "metadata": {},
   "source": [
    "<h1>$\\color{blue}{\\textbf{Comparison of various Classification Algorithms}}$</h1>\n",
    "\n",
    "<h2>$\\color{blue}{\\textbf{Overview}}$</h2>\n",
    "\n",
    "### <p align=\"justify\" style=\"line-height:25px\">A classification task is the problem of defining the association between a categorical variable and independent variables that can take either continuous or discrete values. The categorical variable take values among a set of possible classes. In this project we deal with a binary classification problem; there are only two classes: Fradulent and non-fraudulent.<br><br>In a classification problem an algorithm is assessed on its overall accuracy to predict the correct classes of new unseen observations. Furthermore, in an unbalanced classification problem, the [Receiver Operating Characteristics-Area Under the Curve or ROC-AUC](https://www.sciencedirect.com/science/article/abs/pii/S016786550500303X) performance measure is used to evaluate the performance of a classifier. Essentially, the ROC-AUC <a id=\"rocauc\"></a> measure is a value between zero and one, whereby one is a perfect score and zero the worst. An ROC-AUC score of above 0.5 means a higher performance than just random guessing.\n",
    "    \n",
    "<img src=\"Images/ROC.png\" alt=\"ROC\" style=\"display: auto;margin-left:auto;margin-right: auto;width:30%;\"/>\n",
    "\n",
    "### <p align=\"justify\" style=\"line-height:25px\"> In the graph above, TPR and FPR stand for True Positive Rate and False Positive Rate, which are defined as:\n",
    "    \n",
    "### $$\\textbf{TPR}=\\frac{TP}{TP+FN}\\qquad\\textbf{FPR}=\\frac{FP}{FP+TN}$$\n",
    "\n",
    "### <p align=\"justify\" style=\"line-height:25px\">where $TP, FN, FP$ and $TN$ are the numbers of True Positives, False Negatives, False Positives and True Negatives, respectively, given in the confusion matrix:\n",
    "\n",
    "<img src=\"Images/ConfM.png\" alt=\"Confusion Matrix\" style=\"display: auto;margin-left:auto;margin-right: auto;width:20%;\"/>\n",
    "\n",
    "### <p align=\"justify\" style=\"line-height:25px\">In our case, $Y_1$ is the set of fraudulent transactions, $Y_0$ the set of non-fraudulent transactions, $\\hat{Y}_1$ the set of transactions predicted as fraudulent and $\\hat{Y}_0$ the set of transactions predicted as non-fraudulent."
   ]
  },
  {
   "cell_type": "markdown",
   "metadata": {},
   "source": [
    "<img src=\"Images/broke.jpg\" width=\"100\" align=\"Left\"/> \n",
    "<h1>$\\,\\,\\,\\color{blue}{\\textbf{Spliting into training and test sets}}$</h1>\n",
    "\n",
    "### <p align=\"justify\" style=\"line-height:25px\">When performing a (supervised) machine learning experiment, we want to hold out part of the available data as a test set $\\color{blue}{\\texttt{X}\\_{\\texttt{test}}}$, $\\color{blue}{\\texttt{y}\\_{\\texttt{test}}}$ and the other part as a training set $\\color{blue}{\\texttt{X}\\_{\\texttt{train}}}$, $\\color{blue}{\\texttt{y}\\_{\\texttt{train}}}$. A random split into training and test sets can be computed with the [train_test_split](https://scikit-learn.org/stable/modules/generated/sklearn.model_selection.train_test_split.html) function from scikit-learn and we can hold out the desired percentage of the data for testing (evaluating) our classifier with $\\color{blue}{\\texttt{Test}\\_{\\texttt{size}}}$.<br><br>1. Import [train_test_split](https://scikit-learn.org/stable/modules/generated/sklearn.model_selection.train_test_split.html) from the scikit-learn module [model selection](https://scikit-learn.org/stable/modules/generated/sklearn.model_selection.train_test_split.html) and use it to define the test and training sets<a id=\"trainingset\"></a> $\\color{blue}{\\texttt{X}\\_{\\texttt{test}}}$, $\\color{blue}{\\texttt{y}\\_{\\texttt{test}}}$, $\\color{blue}{\\texttt{X}\\_{\\texttt{train}}}$ and $\\color{blue}{\\texttt{y}\\_{\\texttt{train}}}$.  Hold out $20\\%$ of the data for testing the classifier and a $\\color{blue}{\\texttt{random}\\_{\\texttt{state}}}$ of $42$ as [before](#randstate).<br><br>2. Save the $\\color{blue}{\\texttt{X}\\_{\\texttt{test}}}$ values and the $\\color{blue}{\\texttt{y}\\_{\\texttt{test}}}$ [values](https://pandas.pydata.org/pandas-docs/stable/reference/api/pandas.DataFrame.values.html) in variables named $\\color{blue}{\\texttt{X}\\_{\\texttt{validation}}}$ and $\\color{blue}{\\texttt{X}\\_{\\texttt{validation}}}$, respectively and print the $\\color{blue}{\\texttt{X}}$ and $\\color{blue}{\\texttt{y}}$ shapes."
   ]
  },
  {
   "cell_type": "code",
   "execution_count": 40,
   "metadata": {},
   "outputs": [],
   "source": [
    "# Code. \n"
   ]
  },
  {
   "cell_type": "markdown",
   "metadata": {},
   "source": [
    "<h1>$\\color{blue}{\\textbf{Classification Algorithms}}$</h1>\n",
    "\n",
    "<h2>$\\color{blue}{\\textbf{Overview}}$</h2>\n",
    "\n",
    "### <p align=\"justify\" style=\"line-height:25px\">The goal of classification is to be able to place a given object into the appropriate category based on data associated with this object. In the present case, the object is the credit card transaction and there are two assigned categories, fraudulent and non-fraudulent.<br><br>Here you can read about the following [classification algorithms in Machine Learning](https://medium.com/@Mandysidana/machine-learning-types-of-classification-9497bd4f2e14): Logistic Regression, Naive Bayes Classifier, Nearest Neighbor, Support Vector Machines, Decision Trees, Boosted Trees, Random Forest and Neural Networks.\n",
    "    \n",
    "<img src=\"Images/Classify.png\" alt=\"Classify\" style=\"display: auto;margin-left:auto;margin-right: auto;width:40%;\"/>\n",
    "\n",
    "\n",
    "### <p align=\"justify\" style=\"line-height:25px\">There are a lot of classification algorithms available and it is hard, or even impossible, to conclude which one is superior to other. It depends on the application and nature of available data set.<br><br>Now let us compare some classifiers!"
   ]
  },
  {
   "cell_type": "markdown",
   "metadata": {},
   "source": [
    "<h1>$\\color{blue}{\\textbf{Importing Classification Algorithms and metrics}}$</h1>\n",
    "\n",
    "### <p align=\"justify\" style=\"line-height:25px\">Run the following cell to import all the models and metrics you need to complete the case study into the Jupyter Notebook. All these imports are from the [scikit-learn library](https://scikit-learn.org/stable/supervised_learning.html#supervised-learning)."
   ]
  },
  {
   "cell_type": "code",
   "execution_count": 41,
   "metadata": {},
   "outputs": [],
   "source": [
    "from sklearn.model_selection import KFold\n",
    "from sklearn.model_selection import cross_val_score\n",
    "from sklearn.metrics import roc_auc_score\n",
    "from sklearn.metrics import classification_report\n",
    "from sklearn.metrics import confusion_matrix\n",
    "from sklearn.linear_model import LogisticRegression\n",
    "from sklearn.discriminant_analysis import LinearDiscriminantAnalysis\n",
    "from sklearn.neighbors import KNeighborsClassifier\n",
    "from sklearn.tree import DecisionTreeClassifier\n",
    "from sklearn.svm import SVC\n",
    "from sklearn.ensemble import RandomForestClassifier\n",
    "\n",
    "try:\n",
    "    from xgboost import XGBClassifier\n",
    "except ModuleNotFoundError:\n",
    "    import sys\n",
    "    !{sys.executable} -m pip install xgboost\n",
    "except:\n",
    "    raise Exception(\"SOME OTHER ERROR WITH LOADING XGBOOST\")"
   ]
  },
  {
   "cell_type": "markdown",
   "metadata": {},
   "source": [
    "<img src=\"Images/broke.jpg\" width=\"100\" align=\"Left\"/> \n",
    "<h1>$\\,\\,\\,\\color{blue}{\\textbf{Comparing machine learning algorithms}}$</h1>\n",
    "\n",
    "### <p align=\"justify\" style=\"line-height:25px\"> It is crucial to compare the performance of different machine learning algorithms consistently. Therefore, in the following cell, you will create a test harness to compare multiple different machine learning algorithms in Python with scikit-learn. Summarize the results both numerically and using boxplots<br><br>1. Create a list for appending the models, name it $\\color{blue}{\\texttt{models}}$.<br><br>2. Create, configure and append the models: [Append](https://docs.python.org/3/tutorial/datastructures.html) the following algorithms to the $\\color{blue}{\\texttt{models}}$' list: $\\color{blue}{\\texttt{LogisticRegression}}$, $\\color{blue}{\\texttt{LinearDiscriminantAnalysis}}$, $\\color{blue}{\\texttt{KNeighborsClassifier}}$, $\\color{blue}{\\texttt{DecisionTreeClassifier}}$, $\\color{blue}{\\texttt{SVC}}$, $\\color{blue}{\\texttt{XGBClassifier}}$ and $\\color{blue}{\\texttt{RandomForestClassifier}}$.<br><br>3. Test the models.<br><br>$\\quad$a) Create two lists named $\\color{blue}{\\texttt{results}}$ and $\\color{blue}{\\texttt{names}}$.<br><br>$\\quad$b) Then, for $\\color{blue}{\\texttt{name}}$, $\\color{blue}{\\texttt{model}}$ in $\\color{blue}{\\texttt{models}}$, use a [K-Folds cross-validator](https://scikit-learn.org/stable/modules/generated/sklearn.model_selection.KFold.html) with $10$ folds to evaluate each algorithm,<br>$\\quad\\,\\,\\,\\,\\,$name it $\\color{blue}{\\texttt{kfold}}$. Configure it with the same [random state as before](#randstate) to ensure that the same splits to the<br>$\\quad\\,\\,\\,\\,$ training data are performed and that each algorithm is evaluated in precisely the same way.<br><br>$\\quad$c) Use the [cross_val_score from](https://scikit-learn.org/stable/modules/generated/sklearn.model_selection.cross_val_score.html) function from $\\color{blue}{\\texttt{sklearn.model}\\_{\\texttt{selection}}}$ to evaluate a score (by cross<br>$\\quad\\,\\,\\,\\,\\,$validation) of each $\\color{blue}{\\texttt{model}}$ in the [training set](#trainingset) $\\color{blue}{\\texttt{X}\\_{\\texttt{train}}}$, $\\color{blue}{\\texttt{y}\\_{\\texttt{train}}}$. Use $\\color{blue}{\\texttt{cv}}$ as the $\\color{blue}{\\texttt{kfold}}$ defined above and the <br>$\\quad\\,\\,\\,\\,\\,\\color{blue}{\\texttt{roc}\\_{\\texttt{auc}}}$ measure ([ROC-AUC](#rocauc)) for $\\color{blue}{\\texttt{scoring}}$. Save this part in a variable named $\\color{blue}{\\texttt{cv}\\_{\\texttt{results}}}$ and [append](https://docs.python.org/3/tutorial/datastructures.html) it to<br>$\\quad\\,\\,\\,\\,\\,$the $\\color{blue}{\\texttt{results}}$' list (to be used in the next cell). [Append](https://docs.python.org/3/tutorial/datastructures.html) each name in the $\\color{blue}{\\texttt{names}}$' list as well. Finally, print the<br>$\\quad\\,\\,\\,\\,\\,$numerical summary of the results: (name, mean accuracy, standard deviation accuracy)."
   ]
  },
  {
   "cell_type": "code",
   "execution_count": 42,
   "metadata": {},
   "outputs": [],
   "source": [
    "# Code. \n"
   ]
  },
  {
   "cell_type": "markdown",
   "metadata": {},
   "source": [
    "<img src=\"Images/broke.jpg\" width=\"100\" align=\"Left\"/> \n",
    "<h1>$\\,\\,\\,\\color{blue}{\\textbf{Visual Comparison of th machine learning algorithms}}$</h1>\n",
    "\n",
    "### <p align=\"justify\" style=\"line-height:25px\"> Produce boxplots showing the spread of the accuracy scores across each cross validation fold for each of the above algorithms."
   ]
  },
  {
   "cell_type": "code",
   "execution_count": 43,
   "metadata": {},
   "outputs": [],
   "source": [
    "# Code.\n"
   ]
  },
  {
   "cell_type": "markdown",
   "metadata": {},
   "source": [
    "<h1>$\\color{blue}{\\textbf{Conclusion}}$</h1>\n",
    "\n",
    "### <p align=\"justify\" style=\"line-height:25px\"> Among the algorithms that you tested, what is most efficient algorithm for fraud detection? Why? Use the numerical and graphical summaries to compare the algorithms.<br><br>$\\color{red}{\\textbf{Answer}}$"
   ]
  },
  {
   "cell_type": "markdown",
   "metadata": {},
   "source": [
    "<h1>$\\color{blue}{\\textbf{Further tasks for home (not to hand in)}}$</h1>\n",
    "\n",
    "### <p align=\"justify\" style=\"line-height:25px\"> We used the undersampling technique, but there are many other techniques such as oversampling, SMOTE, CNN, ENN, NCL, OSS and Tomek Link. The task for you now, is to assess the efficiency of the other techniques and perhaps, a mix of undersampling and oversampling techniques.<br><h2>Have fun!</h2>"
   ]
  }
 ],
 "metadata": {
  "kernelspec": {
   "display_name": "Python 3",
   "language": "python",
   "name": "python3"
  },
  "language_info": {
   "codemirror_mode": {
    "name": "ipython",
    "version": 3
   },
   "file_extension": ".py",
   "mimetype": "text/x-python",
   "name": "python",
   "nbconvert_exporter": "python",
   "pygments_lexer": "ipython3",
   "version": "3.7.3"
  },
  "toc": {
   "base_numbering": 1,
   "nav_menu": {},
   "number_sections": false,
   "sideBar": true,
   "skip_h1_title": false,
   "title_cell": "Table of Contents",
   "title_sidebar": "Contents",
   "toc_cell": false,
   "toc_position": {
    "height": "calc(100% - 180px)",
    "left": "10px",
    "top": "150px",
    "width": "180px"
   },
   "toc_section_display": true,
   "toc_window_display": true
  }
 },
 "nbformat": 4,
 "nbformat_minor": 2
}
